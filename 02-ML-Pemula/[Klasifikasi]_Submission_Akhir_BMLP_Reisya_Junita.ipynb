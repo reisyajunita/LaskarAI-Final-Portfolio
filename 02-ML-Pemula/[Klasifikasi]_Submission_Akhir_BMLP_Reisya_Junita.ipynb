{
  "cells": [
    {
      "cell_type": "markdown",
      "metadata": {
        "id": "fKADPWcFKlj3"
      },
      "source": [
        "# **1. Import Library**"
      ]
    },
    {
      "cell_type": "markdown",
      "metadata": {
        "id": "LgA3ERnVn84N"
      },
      "source": [
        "Pada tahap ini, Anda perlu mengimpor beberapa pustaka (library) Python yang dibutuhkan untuk analisis data dan pembangunan model machine learning."
      ]
    },
    {
      "cell_type": "code",
      "execution_count": 1,
      "metadata": {
        "id": "BlmvjLY9M4Yj"
      },
      "outputs": [],
      "source": [
        "import pandas as pd\n",
        "import numpy as np\n",
        "import seaborn as sns\n",
        "import matplotlib.pyplot as plt\n",
        "\n",
        "from sklearn.model_selection import train_test_split\n",
        "from sklearn.preprocessing import LabelEncoder, MinMaxScaler\n",
        "from sklearn.neighbors import KNeighborsClassifier\n",
        "from sklearn.tree import DecisionTreeClassifier\n",
        "from sklearn.ensemble import RandomForestClassifier\n",
        "from sklearn.svm import SVC\n",
        "from sklearn.naive_bayes import GaussianNB\n",
        "from sklearn.metrics import confusion_matrix, accuracy_score, precision_score, recall_score, f1_score\n",
        "from sklearn.model_selection import GridSearchCV\n",
        "\n",
        "import warnings\n",
        "warnings.filterwarnings(\"ignore\")\n",
        "\n",
        "try:\n",
        "    data = pd.read_csv('music_cluster.csv')\n",
        "except FileNotFoundError:\n",
        "    print(\"Error: File 'music_cluster.csv' not found.\")\n",
        "    exit()"
      ]
    },
    {
      "cell_type": "markdown",
      "metadata": {
        "id": "f3YIEnAFKrKL"
      },
      "source": [
        "# **2. Memuat Dataset dari Hasil Clustering**"
      ]
    },
    {
      "cell_type": "markdown",
      "metadata": {
        "id": "Ey3ItwTen_7E"
      },
      "source": [
        "Memuat dataset hasil clustering dari file CSV ke dalam variabel DataFrame."
      ]
    },
    {
      "cell_type": "code",
      "execution_count": 2,
      "metadata": {
        "id": "GHCGNTyrM5fS"
      },
      "outputs": [
        {
          "data": {
            "text/html": [
              "<div>\n",
              "<style scoped>\n",
              "    .dataframe tbody tr th:only-of-type {\n",
              "        vertical-align: middle;\n",
              "    }\n",
              "\n",
              "    .dataframe tbody tr th {\n",
              "        vertical-align: top;\n",
              "    }\n",
              "\n",
              "    .dataframe thead th {\n",
              "        text-align: right;\n",
              "    }\n",
              "</style>\n",
              "<table border=\"1\" class=\"dataframe\">\n",
              "  <thead>\n",
              "    <tr style=\"text-align: right;\">\n",
              "      <th></th>\n",
              "      <th>Song</th>\n",
              "      <th>Artist</th>\n",
              "      <th>Streams</th>\n",
              "      <th>Daily Streams</th>\n",
              "      <th>Genre</th>\n",
              "      <th>Release Year</th>\n",
              "      <th>Peak Position</th>\n",
              "      <th>Weeks on Chart</th>\n",
              "      <th>Lyrics Sentiment</th>\n",
              "      <th>TikTok Virality</th>\n",
              "      <th>Danceability</th>\n",
              "      <th>Acousticness</th>\n",
              "      <th>Energy</th>\n",
              "      <th>Cluster</th>\n",
              "    </tr>\n",
              "  </thead>\n",
              "  <tbody>\n",
              "    <tr>\n",
              "      <th>0</th>\n",
              "      <td>Track 14728</td>\n",
              "      <td>EchoSync</td>\n",
              "      <td>5.510383e+17</td>\n",
              "      <td>3.971491e+12</td>\n",
              "      <td>Trap</td>\n",
              "      <td>72725.0</td>\n",
              "      <td>8020.0</td>\n",
              "      <td>817.0</td>\n",
              "      <td>-0.60</td>\n",
              "      <td>1700.0</td>\n",
              "      <td>0.199</td>\n",
              "      <td>0.59</td>\n",
              "      <td>0.640</td>\n",
              "      <td>0</td>\n",
              "    </tr>\n",
              "    <tr>\n",
              "      <th>1</th>\n",
              "      <td>Track 21319</td>\n",
              "      <td>The Midnight Howl</td>\n",
              "      <td>3.658233e+17</td>\n",
              "      <td>1.210458e+13</td>\n",
              "      <td>Electronic</td>\n",
              "      <td>72620.0</td>\n",
              "      <td>4357.0</td>\n",
              "      <td>10099.0</td>\n",
              "      <td>0.02</td>\n",
              "      <td>3000.0</td>\n",
              "      <td>0.649</td>\n",
              "      <td>0.25</td>\n",
              "      <td>0.739</td>\n",
              "      <td>1</td>\n",
              "    </tr>\n",
              "    <tr>\n",
              "      <th>2</th>\n",
              "      <td>Track 22152</td>\n",
              "      <td>Retro Resonance</td>\n",
              "      <td>1.735971e+17</td>\n",
              "      <td>8.179999e+12</td>\n",
              "      <td>Reggae</td>\n",
              "      <td>71710.0</td>\n",
              "      <td>5644.0</td>\n",
              "      <td>1225.0</td>\n",
              "      <td>-0.28</td>\n",
              "      <td>1100.0</td>\n",
              "      <td>0.487</td>\n",
              "      <td>0.58</td>\n",
              "      <td>0.280</td>\n",
              "      <td>0</td>\n",
              "    </tr>\n",
              "    <tr>\n",
              "      <th>3</th>\n",
              "      <td>Track 80217</td>\n",
              "      <td>Urban Rhapsody</td>\n",
              "      <td>2.498291e+17</td>\n",
              "      <td>1.802951e+13</td>\n",
              "      <td>Pop</td>\n",
              "      <td>71990.0</td>\n",
              "      <td>2080.0</td>\n",
              "      <td>5101.0</td>\n",
              "      <td>0.78</td>\n",
              "      <td>4400.0</td>\n",
              "      <td>0.262</td>\n",
              "      <td>0.04</td>\n",
              "      <td>0.667</td>\n",
              "      <td>0</td>\n",
              "    </tr>\n",
              "    <tr>\n",
              "      <th>4</th>\n",
              "      <td>Track 77204</td>\n",
              "      <td>Sofia Carter</td>\n",
              "      <td>5.802969e+17</td>\n",
              "      <td>5.130313e+12</td>\n",
              "      <td>Blues</td>\n",
              "      <td>72025.0</td>\n",
              "      <td>9604.0</td>\n",
              "      <td>919.0</td>\n",
              "      <td>-2.24</td>\n",
              "      <td>7100.0</td>\n",
              "      <td>0.838</td>\n",
              "      <td>0.59</td>\n",
              "      <td>0.649</td>\n",
              "      <td>1</td>\n",
              "    </tr>\n",
              "  </tbody>\n",
              "</table>\n",
              "</div>"
            ],
            "text/plain": [
              "          Song             Artist       Streams  Daily Streams       Genre  \\\n",
              "0  Track 14728           EchoSync  5.510383e+17   3.971491e+12        Trap   \n",
              "1  Track 21319  The Midnight Howl  3.658233e+17   1.210458e+13  Electronic   \n",
              "2  Track 22152    Retro Resonance  1.735971e+17   8.179999e+12      Reggae   \n",
              "3  Track 80217     Urban Rhapsody  2.498291e+17   1.802951e+13         Pop   \n",
              "4  Track 77204       Sofia Carter  5.802969e+17   5.130313e+12       Blues   \n",
              "\n",
              "   Release Year  Peak Position  Weeks on Chart  Lyrics Sentiment  \\\n",
              "0       72725.0         8020.0           817.0             -0.60   \n",
              "1       72620.0         4357.0         10099.0              0.02   \n",
              "2       71710.0         5644.0          1225.0             -0.28   \n",
              "3       71990.0         2080.0          5101.0              0.78   \n",
              "4       72025.0         9604.0           919.0             -2.24   \n",
              "\n",
              "   TikTok Virality  Danceability  Acousticness  Energy  Cluster  \n",
              "0           1700.0         0.199          0.59   0.640        0  \n",
              "1           3000.0         0.649          0.25   0.739        1  \n",
              "2           1100.0         0.487          0.58   0.280        0  \n",
              "3           4400.0         0.262          0.04   0.667        0  \n",
              "4           7100.0         0.838          0.59   0.649        1  "
            ]
          },
          "execution_count": 2,
          "metadata": {},
          "output_type": "execute_result"
        }
      ],
      "source": [
        "data = pd.read_csv('music_cluster.csv')\n",
        "data.head()"
      ]
    },
    {
      "cell_type": "code",
      "execution_count": 3,
      "metadata": {},
      "outputs": [
        {
          "data": {
            "text/html": [
              "<div>\n",
              "<style scoped>\n",
              "    .dataframe tbody tr th:only-of-type {\n",
              "        vertical-align: middle;\n",
              "    }\n",
              "\n",
              "    .dataframe tbody tr th {\n",
              "        vertical-align: top;\n",
              "    }\n",
              "\n",
              "    .dataframe thead th {\n",
              "        text-align: right;\n",
              "    }\n",
              "</style>\n",
              "<table border=\"1\" class=\"dataframe\">\n",
              "  <thead>\n",
              "    <tr style=\"text-align: right;\">\n",
              "      <th></th>\n",
              "      <th>Streams</th>\n",
              "      <th>Daily Streams</th>\n",
              "      <th>Genre</th>\n",
              "      <th>Release Year</th>\n",
              "      <th>Peak Position</th>\n",
              "      <th>Weeks on Chart</th>\n",
              "      <th>Lyrics Sentiment</th>\n",
              "      <th>TikTok Virality</th>\n",
              "      <th>Danceability</th>\n",
              "      <th>Acousticness</th>\n",
              "      <th>Energy</th>\n",
              "      <th>Cluster</th>\n",
              "    </tr>\n",
              "  </thead>\n",
              "  <tbody>\n",
              "    <tr>\n",
              "      <th>0</th>\n",
              "      <td>5.510383e+17</td>\n",
              "      <td>3.971491e+12</td>\n",
              "      <td>Trap</td>\n",
              "      <td>72725.0</td>\n",
              "      <td>8020.0</td>\n",
              "      <td>817.0</td>\n",
              "      <td>-0.60</td>\n",
              "      <td>1700.0</td>\n",
              "      <td>0.199</td>\n",
              "      <td>0.59</td>\n",
              "      <td>0.640</td>\n",
              "      <td>0</td>\n",
              "    </tr>\n",
              "    <tr>\n",
              "      <th>1</th>\n",
              "      <td>3.658233e+17</td>\n",
              "      <td>1.210458e+13</td>\n",
              "      <td>Electronic</td>\n",
              "      <td>72620.0</td>\n",
              "      <td>4357.0</td>\n",
              "      <td>10099.0</td>\n",
              "      <td>0.02</td>\n",
              "      <td>3000.0</td>\n",
              "      <td>0.649</td>\n",
              "      <td>0.25</td>\n",
              "      <td>0.739</td>\n",
              "      <td>1</td>\n",
              "    </tr>\n",
              "    <tr>\n",
              "      <th>2</th>\n",
              "      <td>1.735971e+17</td>\n",
              "      <td>8.179999e+12</td>\n",
              "      <td>Reggae</td>\n",
              "      <td>71710.0</td>\n",
              "      <td>5644.0</td>\n",
              "      <td>1225.0</td>\n",
              "      <td>-0.28</td>\n",
              "      <td>1100.0</td>\n",
              "      <td>0.487</td>\n",
              "      <td>0.58</td>\n",
              "      <td>0.280</td>\n",
              "      <td>0</td>\n",
              "    </tr>\n",
              "    <tr>\n",
              "      <th>3</th>\n",
              "      <td>2.498291e+17</td>\n",
              "      <td>1.802951e+13</td>\n",
              "      <td>Pop</td>\n",
              "      <td>71990.0</td>\n",
              "      <td>2080.0</td>\n",
              "      <td>5101.0</td>\n",
              "      <td>0.78</td>\n",
              "      <td>4400.0</td>\n",
              "      <td>0.262</td>\n",
              "      <td>0.04</td>\n",
              "      <td>0.667</td>\n",
              "      <td>0</td>\n",
              "    </tr>\n",
              "    <tr>\n",
              "      <th>4</th>\n",
              "      <td>5.802969e+17</td>\n",
              "      <td>5.130313e+12</td>\n",
              "      <td>Blues</td>\n",
              "      <td>72025.0</td>\n",
              "      <td>9604.0</td>\n",
              "      <td>919.0</td>\n",
              "      <td>-2.24</td>\n",
              "      <td>7100.0</td>\n",
              "      <td>0.838</td>\n",
              "      <td>0.59</td>\n",
              "      <td>0.649</td>\n",
              "      <td>1</td>\n",
              "    </tr>\n",
              "    <tr>\n",
              "      <th>...</th>\n",
              "      <td>...</td>\n",
              "      <td>...</td>\n",
              "      <td>...</td>\n",
              "      <td>...</td>\n",
              "      <td>...</td>\n",
              "      <td>...</td>\n",
              "      <td>...</td>\n",
              "      <td>...</td>\n",
              "      <td>...</td>\n",
              "      <td>...</td>\n",
              "      <td>...</td>\n",
              "      <td>...</td>\n",
              "    </tr>\n",
              "    <tr>\n",
              "      <th>4845</th>\n",
              "      <td>3.506832e+17</td>\n",
              "      <td>1.952657e+12</td>\n",
              "      <td>Indie</td>\n",
              "      <td>72095.0</td>\n",
              "      <td>5842.0</td>\n",
              "      <td>1837.0</td>\n",
              "      <td>0.22</td>\n",
              "      <td>5400.0</td>\n",
              "      <td>0.694</td>\n",
              "      <td>0.54</td>\n",
              "      <td>0.757</td>\n",
              "      <td>1</td>\n",
              "    </tr>\n",
              "    <tr>\n",
              "      <th>4846</th>\n",
              "      <td>2.176075e+17</td>\n",
              "      <td>2.130223e+13</td>\n",
              "      <td>Metal</td>\n",
              "      <td>72130.0</td>\n",
              "      <td>9505.0</td>\n",
              "      <td>103.0</td>\n",
              "      <td>-0.80</td>\n",
              "      <td>9400.0</td>\n",
              "      <td>0.793</td>\n",
              "      <td>0.50</td>\n",
              "      <td>0.271</td>\n",
              "      <td>0</td>\n",
              "    </tr>\n",
              "    <tr>\n",
              "      <th>4847</th>\n",
              "      <td>4.716185e+17</td>\n",
              "      <td>7.354590e+12</td>\n",
              "      <td>K-Pop</td>\n",
              "      <td>72480.0</td>\n",
              "      <td>5446.0</td>\n",
              "      <td>2755.0</td>\n",
              "      <td>-1.68</td>\n",
              "      <td>900.0</td>\n",
              "      <td>0.919</td>\n",
              "      <td>0.83</td>\n",
              "      <td>0.919</td>\n",
              "      <td>1</td>\n",
              "    </tr>\n",
              "    <tr>\n",
              "      <th>4848</th>\n",
              "      <td>3.010419e+17</td>\n",
              "      <td>9.644245e+12</td>\n",
              "      <td>Latin</td>\n",
              "      <td>71850.0</td>\n",
              "      <td>7426.0</td>\n",
              "      <td>1531.0</td>\n",
              "      <td>-0.18</td>\n",
              "      <td>3100.0</td>\n",
              "      <td>0.253</td>\n",
              "      <td>0.03</td>\n",
              "      <td>0.811</td>\n",
              "      <td>0</td>\n",
              "    </tr>\n",
              "    <tr>\n",
              "      <th>4849</th>\n",
              "      <td>2.094564e+17</td>\n",
              "      <td>1.206641e+13</td>\n",
              "      <td>Blues</td>\n",
              "      <td>72200.0</td>\n",
              "      <td>1486.0</td>\n",
              "      <td>5815.0</td>\n",
              "      <td>-0.26</td>\n",
              "      <td>8600.0</td>\n",
              "      <td>0.559</td>\n",
              "      <td>0.73</td>\n",
              "      <td>0.541</td>\n",
              "      <td>1</td>\n",
              "    </tr>\n",
              "  </tbody>\n",
              "</table>\n",
              "<p>4850 rows × 12 columns</p>\n",
              "</div>"
            ],
            "text/plain": [
              "           Streams  Daily Streams       Genre  Release Year  Peak Position  \\\n",
              "0     5.510383e+17   3.971491e+12        Trap       72725.0         8020.0   \n",
              "1     3.658233e+17   1.210458e+13  Electronic       72620.0         4357.0   \n",
              "2     1.735971e+17   8.179999e+12      Reggae       71710.0         5644.0   \n",
              "3     2.498291e+17   1.802951e+13         Pop       71990.0         2080.0   \n",
              "4     5.802969e+17   5.130313e+12       Blues       72025.0         9604.0   \n",
              "...            ...            ...         ...           ...            ...   \n",
              "4845  3.506832e+17   1.952657e+12       Indie       72095.0         5842.0   \n",
              "4846  2.176075e+17   2.130223e+13       Metal       72130.0         9505.0   \n",
              "4847  4.716185e+17   7.354590e+12       K-Pop       72480.0         5446.0   \n",
              "4848  3.010419e+17   9.644245e+12       Latin       71850.0         7426.0   \n",
              "4849  2.094564e+17   1.206641e+13       Blues       72200.0         1486.0   \n",
              "\n",
              "      Weeks on Chart  Lyrics Sentiment  TikTok Virality  Danceability  \\\n",
              "0              817.0             -0.60           1700.0         0.199   \n",
              "1            10099.0              0.02           3000.0         0.649   \n",
              "2             1225.0             -0.28           1100.0         0.487   \n",
              "3             5101.0              0.78           4400.0         0.262   \n",
              "4              919.0             -2.24           7100.0         0.838   \n",
              "...              ...               ...              ...           ...   \n",
              "4845          1837.0              0.22           5400.0         0.694   \n",
              "4846           103.0             -0.80           9400.0         0.793   \n",
              "4847          2755.0             -1.68            900.0         0.919   \n",
              "4848          1531.0             -0.18           3100.0         0.253   \n",
              "4849          5815.0             -0.26           8600.0         0.559   \n",
              "\n",
              "      Acousticness  Energy  Cluster  \n",
              "0             0.59   0.640        0  \n",
              "1             0.25   0.739        1  \n",
              "2             0.58   0.280        0  \n",
              "3             0.04   0.667        0  \n",
              "4             0.59   0.649        1  \n",
              "...            ...     ...      ...  \n",
              "4845          0.54   0.757        1  \n",
              "4846          0.50   0.271        0  \n",
              "4847          0.83   0.919        1  \n",
              "4848          0.03   0.811        0  \n",
              "4849          0.73   0.541        1  \n",
              "\n",
              "[4850 rows x 12 columns]"
            ]
          },
          "execution_count": 3,
          "metadata": {},
          "output_type": "execute_result"
        }
      ],
      "source": [
        "# Menghapus kolom yang tidak diperlukan\n",
        "df = data.drop(['Song', 'Artist'], axis=1)\n",
        "df"
      ]
    },
    {
      "cell_type": "markdown",
      "metadata": {
        "id": "KkPem5eWL2UP"
      },
      "source": [
        "# **3. Data Splitting**"
      ]
    },
    {
      "cell_type": "markdown",
      "metadata": {
        "id": "YYj1rl_JNI9Y"
      },
      "source": [
        "Tahap Data Splitting bertujuan untuk memisahkan dataset menjadi dua bagian: data latih (training set) dan data uji (test set)."
      ]
    },
    {
      "cell_type": "code",
      "execution_count": 4,
      "metadata": {},
      "outputs": [],
      "source": [
        "# Label Encoder\n",
        "label_encoder = LabelEncoder()\n",
        "categorical_cols = ['Genre']\n",
        "\n",
        "for col in categorical_cols:\n",
        "    df[col] = label_encoder.fit_transform(df[col])"
      ]
    },
    {
      "cell_type": "code",
      "execution_count": 5,
      "metadata": {},
      "outputs": [
        {
          "data": {
            "text/html": [
              "<div>\n",
              "<style scoped>\n",
              "    .dataframe tbody tr th:only-of-type {\n",
              "        vertical-align: middle;\n",
              "    }\n",
              "\n",
              "    .dataframe tbody tr th {\n",
              "        vertical-align: top;\n",
              "    }\n",
              "\n",
              "    .dataframe thead th {\n",
              "        text-align: right;\n",
              "    }\n",
              "</style>\n",
              "<table border=\"1\" class=\"dataframe\">\n",
              "  <thead>\n",
              "    <tr style=\"text-align: right;\">\n",
              "      <th></th>\n",
              "      <th>Streams</th>\n",
              "      <th>Daily Streams</th>\n",
              "      <th>Genre</th>\n",
              "      <th>Release Year</th>\n",
              "      <th>Peak Position</th>\n",
              "      <th>Weeks on Chart</th>\n",
              "      <th>Lyrics Sentiment</th>\n",
              "      <th>TikTok Virality</th>\n",
              "      <th>Danceability</th>\n",
              "      <th>Acousticness</th>\n",
              "      <th>Energy</th>\n",
              "      <th>Cluster</th>\n",
              "    </tr>\n",
              "  </thead>\n",
              "  <tbody>\n",
              "    <tr>\n",
              "      <th>0</th>\n",
              "      <td>0.862127</td>\n",
              "      <td>0.157299</td>\n",
              "      <td>1.000000</td>\n",
              "      <td>0.885714</td>\n",
              "      <td>0.808081</td>\n",
              "      <td>0.068627</td>\n",
              "      <td>0.600</td>\n",
              "      <td>0.17</td>\n",
              "      <td>0.011111</td>\n",
              "      <td>0.59</td>\n",
              "      <td>0.555556</td>\n",
              "      <td>0.0</td>\n",
              "    </tr>\n",
              "    <tr>\n",
              "      <th>1</th>\n",
              "      <td>0.571873</td>\n",
              "      <td>0.484182</td>\n",
              "      <td>0.190476</td>\n",
              "      <td>0.800000</td>\n",
              "      <td>0.434343</td>\n",
              "      <td>0.960784</td>\n",
              "      <td>0.755</td>\n",
              "      <td>0.30</td>\n",
              "      <td>0.566667</td>\n",
              "      <td>0.25</td>\n",
              "      <td>0.677778</td>\n",
              "      <td>1.0</td>\n",
              "    </tr>\n",
              "    <tr>\n",
              "      <th>2</th>\n",
              "      <td>0.270632</td>\n",
              "      <td>0.326446</td>\n",
              "      <td>0.809524</td>\n",
              "      <td>0.057143</td>\n",
              "      <td>0.565657</td>\n",
              "      <td>0.107843</td>\n",
              "      <td>0.680</td>\n",
              "      <td>0.11</td>\n",
              "      <td>0.366667</td>\n",
              "      <td>0.58</td>\n",
              "      <td>0.111111</td>\n",
              "      <td>0.0</td>\n",
              "    </tr>\n",
              "    <tr>\n",
              "      <th>3</th>\n",
              "      <td>0.390096</td>\n",
              "      <td>0.722315</td>\n",
              "      <td>0.666667</td>\n",
              "      <td>0.285714</td>\n",
              "      <td>0.202020</td>\n",
              "      <td>0.480392</td>\n",
              "      <td>0.945</td>\n",
              "      <td>0.44</td>\n",
              "      <td>0.088889</td>\n",
              "      <td>0.04</td>\n",
              "      <td>0.588889</td>\n",
              "      <td>0.0</td>\n",
              "    </tr>\n",
              "    <tr>\n",
              "      <th>4</th>\n",
              "      <td>0.907979</td>\n",
              "      <td>0.203874</td>\n",
              "      <td>0.000000</td>\n",
              "      <td>0.314286</td>\n",
              "      <td>0.969697</td>\n",
              "      <td>0.078431</td>\n",
              "      <td>0.190</td>\n",
              "      <td>0.71</td>\n",
              "      <td>0.800000</td>\n",
              "      <td>0.59</td>\n",
              "      <td>0.566667</td>\n",
              "      <td>1.0</td>\n",
              "    </tr>\n",
              "  </tbody>\n",
              "</table>\n",
              "</div>"
            ],
            "text/plain": [
              "    Streams  Daily Streams     Genre  Release Year  Peak Position  \\\n",
              "0  0.862127       0.157299  1.000000      0.885714       0.808081   \n",
              "1  0.571873       0.484182  0.190476      0.800000       0.434343   \n",
              "2  0.270632       0.326446  0.809524      0.057143       0.565657   \n",
              "3  0.390096       0.722315  0.666667      0.285714       0.202020   \n",
              "4  0.907979       0.203874  0.000000      0.314286       0.969697   \n",
              "\n",
              "   Weeks on Chart  Lyrics Sentiment  TikTok Virality  Danceability  \\\n",
              "0        0.068627             0.600             0.17      0.011111   \n",
              "1        0.960784             0.755             0.30      0.566667   \n",
              "2        0.107843             0.680             0.11      0.366667   \n",
              "3        0.480392             0.945             0.44      0.088889   \n",
              "4        0.078431             0.190             0.71      0.800000   \n",
              "\n",
              "   Acousticness    Energy  Cluster  \n",
              "0          0.59  0.555556      0.0  \n",
              "1          0.25  0.677778      1.0  \n",
              "2          0.58  0.111111      0.0  \n",
              "3          0.04  0.588889      0.0  \n",
              "4          0.59  0.566667      1.0  "
            ]
          },
          "execution_count": 5,
          "metadata": {},
          "output_type": "execute_result"
        }
      ],
      "source": [
        "# Buat instance MinMaxScaler\n",
        "scaler = MinMaxScaler()\n",
        "\n",
        "# Normalisasi semua kolom numerik\n",
        "numeric_cols = df.select_dtypes(include=['int64', 'float64']).columns\n",
        "df[numeric_cols] = scaler.fit_transform(df[numeric_cols])\n",
        "\n",
        "df.head()"
      ]
    },
    {
      "cell_type": "code",
      "execution_count": 6,
      "metadata": {
        "id": "OubAW-7ONKVj"
      },
      "outputs": [],
      "source": [
        "X = df.drop('Cluster', axis=1)\n",
        "y = df['Cluster']"
      ]
    },
    {
      "cell_type": "code",
      "execution_count": 7,
      "metadata": {},
      "outputs": [
        {
          "name": "stdout",
          "output_type": "stream",
          "text": [
            "Training set shape: X_train=(3880, 11), y_train=(3880,)\n",
            "Test set shape: X_test=(970, 11), y_test=(970,)\n"
          ]
        }
      ],
      "source": [
        "# Bagi data menjadi set pelatihan dan pengujian\n",
        "X_train, X_test, y_train, y_test = train_test_split(X, y, test_size=0.2, random_state=42)\n",
        "\n",
        "# Tampilkan bentuk set pelatihan dan set uji untuk memastikan split\n",
        "print(f\"Training set shape: X_train={X_train.shape}, y_train={y_train.shape}\")\n",
        "print(f\"Test set shape: X_test={X_test.shape}, y_test={y_test.shape}\")"
      ]
    },
    {
      "cell_type": "markdown",
      "metadata": {
        "id": "IVPbB03CMhTT"
      },
      "source": [
        "# **4. Membangun Model Klasifikasi**\n"
      ]
    },
    {
      "cell_type": "markdown",
      "metadata": {
        "id": "Ned1pL9zMmBK"
      },
      "source": [
        "## **a. Membangun Model Klasifikasi**"
      ]
    },
    {
      "cell_type": "markdown",
      "metadata": {
        "id": "WAWzPOE4Nkti"
      },
      "source": [
        "Setelah memilih algoritma klasifikasi yang sesuai, langkah selanjutnya adalah melatih model menggunakan data latih.\n",
        "\n",
        "Berikut adalah rekomendasi tahapannya.\n",
        "1. Pilih algoritma klasifikasi yang sesuai, seperti Logistic Regression, Decision Tree, Random Forest, atau K-Nearest Neighbors (KNN).\n",
        "2. Latih model menggunakan data latih."
      ]
    },
    {
      "cell_type": "code",
      "execution_count": 8,
      "metadata": {
        "id": "4JYxBe87NLDk"
      },
      "outputs": [
        {
          "name": "stdout",
          "output_type": "stream",
          "text": [
            "Model training selesai.\n"
          ]
        }
      ],
      "source": [
        "# Model Training\n",
        "knn = KNeighborsClassifier().fit(X_train, y_train)\n",
        "dt = DecisionTreeClassifier().fit(X_train, y_train)\n",
        "rf = RandomForestClassifier().fit(X_train, y_train)\n",
        "svm = SVC().fit(X_train, y_train)\n",
        "nb = GaussianNB().fit(X_train, y_train)\n",
        "\n",
        "print(\"Model training selesai.\")"
      ]
    },
    {
      "cell_type": "markdown",
      "metadata": {
        "id": "seYoHNY3XU1y"
      },
      "source": [
        "Tulis narasi atau penjelasan algoritma yang Anda gunakan.\n",
        "1. K-Nearest Neighbors (KNN)\n",
        "\n",
        "    * KNN dipilih karena kemampuannya untuk mengklasifikasikan data berdasarkan kesamaan fitur. Dalam konteks musik, ini berarti lagu-lagu dengan karakteristik yang mirip (misalnya, tempo, energi, dan danceability yang serupa) akan dikelompokkan bersama.\n",
        "    * KNN efektif dalam menangani data dengan batas keputusan yang kompleks, yang mungkin terjadi dalam dataset musik di mana genre dan preferensi musik tidak selalu terdefinisi secara jelas.\n",
        "2. Support Vector Machine (SVM)\n",
        "\n",
        "    * SVM dipilih karena kemampuannya untuk menemukan batas keputusan optimal yang memaksimalkan margin antara cluster lagu. Ini sangat berguna dalam mengklasifikasikan lagu ke dalam cluster yang berbeda dengan akurasi tinggi.\n",
        "    * SVM juga efektif dalam menangani ruang fitur berdimensi tinggi, yang relevan untuk dataset musik yang mungkin memiliki banyak fitur yang berkontribusi pada pengelompokan lagu.\n",
        "    * SVM dikenal sangat baik dalam melakukan klasifikasi, dengan tingkat akurasi yang tinggi.\n",
        "\n",
        "Secara keseluruhan, kedua algoritma ini dipilih karena kemampuan mereka untuk menangani data multidimensi dan kompleks, yang umum ditemukan dalam dataset musik."
      ]
    },
    {
      "cell_type": "markdown",
      "metadata": {
        "id": "ergzChZFEL-O"
      },
      "source": [
        "## **b. Evaluasi Model Klasifikasi**"
      ]
    },
    {
      "cell_type": "markdown",
      "metadata": {
        "id": "zOm68u-7NpLT"
      },
      "source": [
        "Berikut adalah **rekomendasi** tahapannya.\n",
        "1. Lakukan prediksi menggunakan data uji.\n",
        "2. Hitung metrik evaluasi seperti Accuracy dan F1-Score (Opsional: Precision dan Recall).\n",
        "3. Buat confusion matrix untuk melihat detail prediksi benar dan salah."
      ]
    },
    {
      "cell_type": "code",
      "execution_count": 9,
      "metadata": {},
      "outputs": [],
      "source": [
        "# Fungsi untuk mengevaluasi model dan mengembalikan hasil sebagai dictionary\n",
        "def evaluate_model(model, X_test, y_test):\n",
        "    y_pred = model.predict(X_test)\n",
        "    cm = confusion_matrix(y_test, y_pred)\n",
        "    tn, fp, fn, tp = cm.ravel()\n",
        "    results = {\n",
        "        'Confusion Matrix': cm,\n",
        "        'True Positive (TP)': tp,\n",
        "        'False Positive (FP)': fp,\n",
        "        'False Negative (FN)': fn,\n",
        "        'True Negative (TN)': tn,\n",
        "        'Accuracy': accuracy_score(y_test, y_pred),\n",
        "        'Precision': precision_score(y_test, y_pred),\n",
        "        'Recall': recall_score(y_test, y_pred),\n",
        "        'F1-Score': f1_score(y_test, y_pred)\n",
        "    }\n",
        "    return results\n",
        "\n",
        "# Fungsi untuk visualisasi confusion matrix\n",
        "def plot_confusion_matrix(cm, title):\n",
        "    plt.figure(figsize=(5, 4))\n",
        "    sns.heatmap(cm, annot=True, fmt='d', cmap='Blues', cbar=False)\n",
        "    plt.title(title)\n",
        "    plt.xlabel('Predicted')\n",
        "    plt.ylabel('Actual')\n",
        "    plt.show()"
      ]
    },
    {
      "cell_type": "code",
      "execution_count": 10,
      "metadata": {},
      "outputs": [
        {
          "name": "stdout",
          "output_type": "stream",
          "text": [
            "Evaluasi Model Awal:\n",
            "==== K-Nearest Neighbors (KNN) ====\n",
            "Confusion Matrix:\n",
            "[[443  32]\n",
            " [ 35 460]]\n",
            "Accuracy: 0.9309\n",
            "Precision: 0.9350\n",
            "Recall: 0.9293\n",
            "F1-Score: 0.9321\n"
          ]
        },
        {
          "data": {
            "image/png": "[encoded data removed]",
            "text/plain": [
              "<Figure size 500x400 with 1 Axes>"
            ]
          },
          "metadata": {},
          "output_type": "display_data"
        },
        {
          "name": "stdout",
          "output_type": "stream",
          "text": [
            "----------------------------------------\n",
            "==== Support Vector Machine (SVM) ====\n",
            "Confusion Matrix:\n",
            "[[471   4]\n",
            " [  7 488]]\n",
            "Accuracy: 0.9887\n",
            "Precision: 0.9919\n",
            "Recall: 0.9859\n",
            "F1-Score: 0.9889\n"
          ]
        },
        {
          "data": {
            "image/png": "[encoded data removed]",
            "text/plain": [
              "<Figure size 500x400 with 1 Axes>"
            ]
          },
          "metadata": {},
          "output_type": "display_data"
        },
        {
          "name": "stdout",
          "output_type": "stream",
          "text": [
            "----------------------------------------\n"
          ]
        }
      ],
      "source": [
        "# Evaluasi Model Klasifikasi Awal\n",
        "results_initial = {\n",
        "    'K-Nearest Neighbors (KNN)': evaluate_model(knn, X_test, y_test),\n",
        "    'Support Vector Machine (SVM)': evaluate_model(svm, X_test, y_test)\n",
        "}\n",
        "\n",
        "print(\"Evaluasi Model Awal:\")\n",
        "for model_name, metrics in results_initial.items():\n",
        "    print(f\"==== {model_name} ====\")\n",
        "    print(f\"Confusion Matrix:\\n{metrics['Confusion Matrix']}\")\n",
        "    print(f\"Accuracy: {metrics['Accuracy']:.4f}\")\n",
        "    print(f\"Precision: {metrics['Precision']:.4f}\")\n",
        "    print(f\"Recall: {metrics['Recall']:.4f}\")\n",
        "    print(f\"F1-Score: {metrics['F1-Score']:.4f}\")\n",
        "    plot_confusion_matrix(metrics['Confusion Matrix'], f'{model_name} Confusion Matrix')\n",
        "    print(\"-\" * 40)"
      ]
    },
    {
      "cell_type": "markdown",
      "metadata": {
        "id": "H4_9OwrsXZlz"
      },
      "source": [
        "**Hasil Evaluasi Algoritma:**\n",
        "\n",
        "1. K-Nearest Neighbors (KNN)\n",
        "\n",
        "    * Confusion Matrix:\n",
        "        * True Positive (TP): 460\n",
        "        * False Positive (FP): 32\n",
        "        * False Negative (FN): 35\n",
        "        * True Negative (TN): 443\n",
        "    * Metrik Evaluasi:\n",
        "        * Accuracy: 0.9309\n",
        "        * Precision: 0.9350\n",
        "        * Recall: 0.9293\n",
        "        * F1-Score: 0.9321\n",
        "    Analisis KNN:\n",
        "\n",
        "    * KNN menunjukkan performa yang baik dengan akurasi sekitar 93%. Ini berarti model ini cukup akurat dalam mengklasifikasikan lagu ke dalam cluster yang benar.\n",
        "    * Precision dan recall juga tinggi, menunjukkan bahwa model ini baik dalam mengidentifikasi lagu-lagu yang termasuk dalam cluster tertentu dan dalam menangkap sebagian besar lagu yang seharusnya berada dalam cluster tersebut.\n",
        "    * F1-score yang tinggi, menunjukan keseimbangan yang baik antara precision dan recall.\n",
        "\n",
        "2. Support Vector Machine (SVM)\n",
        "\n",
        "    * Confusion Matrix:\n",
        "        * True Positive (TP): 488\n",
        "        * False Positive (FP): 4\n",
        "        * False Negative (FN): 7\n",
        "        * True Negative (TN): 471\n",
        "    * Metrik Evaluasi:\n",
        "        * Accuracy: 0.9887\n",
        "        * Precision: 0.9919\n",
        "        * Recall: 0.9859\n",
        "        * F1-Score: 0.9889\n",
        "    Analisis SVM:\n",
        "\n",
        "    * SVM menunjukkan performa yang sangat tinggi, dengan akurasi mendekati 99%. Ini menunjukkan bahwa model ini sangat akurat dalam mengklasifikasikan lagu.\n",
        "    * Precision dan recall juga sangat tinggi, menunjukkan bahwa model ini sangat baik dalam mengidentifikasi dan menangkap lagu-lagu yang termasuk dalam cluster tertentu.\n",
        "    * F1-score yang sangat tinggi, menunjukan keseimbangan yang sangat baik antara precision dan recall.\n",
        "\n",
        "**Perbandingan Hasil:**\n",
        "\n",
        "* SVM secara signifikan mengungguli KNN dalam semua metrik evaluasi.\n",
        "* SVM memiliki akurasi, precision, recall, dan F1-score yang jauh lebih tinggi daripada KNN, menunjukkan bahwa SVM adalah model yang lebih efektif untuk dataset musik ini.\n",
        "* SVM memiliki jumlah False Positive dan False Negative yang jauh lebih rendah dari KNN.\n",
        "* Secara keseluruhan, SVM memberikan hasil yang jauh lebih baik dalam mengklasifikasikan lagu ke dalam cluster yang sesuai dibandingkan dengan KNN."
      ]
    },
    {
      "cell_type": "markdown",
      "metadata": {
        "id": "ph9yIYDXEPuB"
      },
      "source": [
        "## **c. Tuning Model Klasifikasi (Optional)**"
      ]
    },
    {
      "cell_type": "markdown",
      "metadata": {
        "id": "-Bikx3LINv5e"
      },
      "source": [
        "Gunakan GridSearchCV, RandomizedSearchCV, atau metode lainnya untuk mencari kombinasi hyperparameter terbaik"
      ]
    },
    {
      "cell_type": "code",
      "execution_count": 11,
      "metadata": {
        "id": "winbFzb8NL95"
      },
      "outputs": [
        {
          "name": "stdout",
          "output_type": "stream",
          "text": [
            "Hyperparameter Terbaik untuk SVM:\n",
            "{'C': 1, 'gamma': 0.1, 'kernel': 'rbf'}\n"
          ]
        }
      ],
      "source": [
        "# Tuning Model Klasifikasi (SVM)\n",
        "param_grid_svm = {\n",
        "    'C': [0.1, 1, 10, 100],\n",
        "    'kernel': ['rbf', 'poly', 'sigmoid'],\n",
        "    'gamma': ['scale', 'auto', 0.1, 1]\n",
        "}\n",
        "\n",
        "grid_svm = GridSearchCV(SVC(), param_grid_svm, refit=True, verbose=0)\n",
        "grid_svm.fit(X_train, y_train)\n",
        "print(f\"Hyperparameter Terbaik untuk SVM:\\n{grid_svm.best_params_}\")\n",
        "best_model_svm = grid_svm.best_estimator_"
      ]
    },
    {
      "cell_type": "code",
      "execution_count": 12,
      "metadata": {},
      "outputs": [
        {
          "name": "stdout",
          "output_type": "stream",
          "text": [
            "Hyperparameter Terbaik untuk KNN:\n",
            "{'n_neighbors': 11, 'p': 1, 'weights': 'distance'}\n"
          ]
        }
      ],
      "source": [
        "# Tuning Model Klasifikasi (KNN)\n",
        "param_grid_knn = {\n",
        "    'n_neighbors': [3, 5, 7, 9, 11],\n",
        "    'weights': ['uniform', 'distance'],\n",
        "    'p': [1, 2]\n",
        "}\n",
        "\n",
        "grid_knn = GridSearchCV(KNeighborsClassifier(), param_grid_knn, refit=True, verbose=0)\n",
        "grid_knn.fit(X_train, y_train)\n",
        "print(f\"Hyperparameter Terbaik untuk KNN:\\n{grid_knn.best_params_}\")\n",
        "best_model_knn = grid_knn.best_estimator_"
      ]
    },
    {
      "cell_type": "markdown",
      "metadata": {
        "id": "hE7pqlEPEYzI"
      },
      "source": [
        "## **d. Evaluasi Model Klasifikasi setelah Tuning (Optional)**"
      ]
    },
    {
      "cell_type": "markdown",
      "metadata": {
        "id": "feaPESoeN0zz"
      },
      "source": [
        "Berikut adalah rekomendasi tahapannya.\n",
        "1. Gunakan model dengan hyperparameter terbaik.\n",
        "2. Hitung ulang metrik evaluasi untuk melihat apakah ada peningkatan performa."
      ]
    },
    {
      "cell_type": "code",
      "execution_count": 13,
      "metadata": {
        "id": "HTXZRvEeNMb1"
      },
      "outputs": [
        {
          "name": "stdout",
          "output_type": "stream",
          "text": [
            "\n",
            "Evaluasi Model Setelah Tuning:\n",
            "==== Support Vector Machine (SVM) Tuned ====\n",
            "Confusion Matrix:\n",
            "[[475   0]\n",
            " [  0 495]]\n",
            "Accuracy: 1.0000\n",
            "Precision: 1.0000\n",
            "Recall: 1.0000\n",
            "F1-Score: 1.0000\n"
          ]
        },
        {
          "data": {
            "image/png": "[encoded data removed]",
            "text/plain": [
              "<Figure size 500x400 with 1 Axes>"
            ]
          },
          "metadata": {},
          "output_type": "display_data"
        },
        {
          "name": "stdout",
          "output_type": "stream",
          "text": [
            "----------------------------------------\n",
            "==== K-Nearest Neighbors (KNN) Tuned ====\n",
            "Confusion Matrix:\n",
            "[[454  21]\n",
            " [ 23 472]]\n",
            "Accuracy: 0.9546\n",
            "Precision: 0.9574\n",
            "Recall: 0.9535\n",
            "F1-Score: 0.9555\n"
          ]
        },
        {
          "data": {
            "image/png": "[encoded data removed]",
            "text/plain": [
              "<Figure size 500x400 with 1 Axes>"
            ]
          },
          "metadata": {},
          "output_type": "display_data"
        },
        {
          "name": "stdout",
          "output_type": "stream",
          "text": [
            "----------------------------------------\n"
          ]
        }
      ],
      "source": [
        "# Evaluasi Model Klasifikasi Setelah Tuning\n",
        "results_tuned = {\n",
        "    'Support Vector Machine (SVM) Tuned': evaluate_model(best_model_svm, X_test, y_test),\n",
        "    'K-Nearest Neighbors (KNN) Tuned': evaluate_model(best_model_knn, X_test, y_test)\n",
        "}\n",
        "\n",
        "print(\"\\nEvaluasi Model Setelah Tuning:\")\n",
        "for model_name, metrics in results_tuned.items():\n",
        "    print(f\"==== {model_name} ====\")\n",
        "    print(f\"Confusion Matrix:\\n{metrics['Confusion Matrix']}\")\n",
        "    print(f\"Accuracy: {metrics['Accuracy']:.4f}\")\n",
        "    print(f\"Precision: {metrics['Precision']:.4f}\")\n",
        "    print(f\"Recall: {metrics['Recall']:.4f}\")\n",
        "    print(f\"F1-Score: {metrics['F1-Score']:.4f}\")\n",
        "    plot_confusion_matrix(metrics['Confusion Matrix'], f'{model_name} Confusion Matrix')\n",
        "    print(\"-\" * 40)"
      ]
    },
    {
      "cell_type": "markdown",
      "metadata": {
        "id": "ZRsOdm4uEgAW"
      },
      "source": [
        "## **e. Analisis Hasil Evaluasi Model Klasifikasi**"
      ]
    },
    {
      "cell_type": "code",
      "execution_count": 14,
      "metadata": {},
      "outputs": [
        {
          "name": "stdout",
          "output_type": "stream",
          "text": [
            "                                Model  Accuracy  Precision    Recall  F1-Score\n",
            "0     K-Nearest Neighbors (KNN) Tuned  0.954639   0.957404  0.953535  0.955466\n",
            "1  Support Vector Machine (SVM) Tuned  1.000000   1.000000  1.000000  1.000000\n"
          ]
        }
      ],
      "source": [
        "# Fungsi untuk evaluasi model\n",
        "def evaluate_model(model, X_test, y_test):\n",
        "    y_pred = model.predict(X_test)\n",
        "    cm = confusion_matrix(y_test, y_pred)\n",
        "    tn, fp, fn, tp = cm.ravel()\n",
        "    results = {\n",
        "        'Confusion Matrix': cm,\n",
        "        'True Positive (TP)': tp,\n",
        "        'False Positive (FP)': fp,\n",
        "        'False Negative (FN)': fn,\n",
        "        'True Negative (TN)': tn,\n",
        "        'Accuracy': accuracy_score(y_test, y_pred),\n",
        "        'Precision': precision_score(y_test, y_pred),\n",
        "        'Recall': recall_score(y_test, y_pred),\n",
        "        'F1-Score': f1_score(y_test, y_pred)\n",
        "    }\n",
        "    return results\n",
        "\n",
        "# Evaluasi model klasifikasi (menggunakan model setelah tuning)\n",
        "results = {\n",
        "    'K-Nearest Neighbors (KNN) Tuned': evaluate_model(best_model_knn, X_test, y_test),\n",
        "    'Support Vector Machine (SVM) Tuned': evaluate_model(best_model_svm, X_test, y_test)\n",
        "}\n",
        "\n",
        "summary_df = pd.DataFrame(columns=['Model', 'Accuracy', 'Precision', 'Recall', 'F1-Score'])\n",
        "\n",
        "rows = []\n",
        "for model_name, metrics in results.items():\n",
        "    rows.append({\n",
        "        'Model': model_name,\n",
        "        'Accuracy': metrics['Accuracy'],\n",
        "        'Precision': metrics['Precision'],\n",
        "        'Recall': metrics['Recall'],\n",
        "        'F1-Score': metrics['F1-Score']\n",
        "    })\n",
        "\n",
        "# Convert list of dictionaries to DataFrame\n",
        "summary_df = pd.DataFrame(rows)\n",
        "\n",
        "print(summary_df)"
      ]
    },
    {
      "cell_type": "markdown",
      "metadata": {},
      "source": [
        "Berdasarkan data evaluasi yang telah dilakukan tuning, berikut adalah analisis untuk masing-masing model dengan mempertimbangkan metrik Accuracy, Precision, Recall, dan F1-Score:\n",
        "\n",
        "### **Analisis Hasil Evaluasi Model**\n",
        "\n",
        "1. **K-Nearest Neighbors (KNN)**\n",
        "   - **Accuracy**: 95.46%\n",
        "   - **Precision**: 95.74%\n",
        "   - **Recall**: 95.35%\n",
        "   - **F1-Score**: 95.55%\n",
        "\n",
        "   **Analisis**: Setelah tuning, KNN menunjukkan peningkatan performa yang signifikan. Akurasi, presisi, recall, dan F1-score semuanya meningkat dibandingkan dengan hyperparameter default. Model ini sekarang memiliki akurasi 95.46%, yang menunjukkan bahwa model ini sangat baik dalam memprediksi kelas yang benar. Precision-nya (95.74%) menunjukkan bahwa ketika model memprediksi suatu titik sebagai positif, ia hampir selalu benar. Recall-nya (95.35%) menunjukkan bahwa model ini sangat baik dalam menangkap sebagian besar kasus positif yang sebenarnya. F1-Score yang tinggi (95.55%) mencerminkan keseimbangan yang baik antara precision dan recall.\n",
        "\n",
        "2. **Support Vector Machine (SVM)**\n",
        "   - **Accuracy**: 100%\n",
        "   - **Precision**: 100%\n",
        "   - **Recall**: 100%\n",
        "   - **F1-Score**: 100%\n",
        "\n",
        "   **Analisis**: Setelah tuning, SVM mencapai performa sempurna. Semua metrik evaluasi mencapai 1.0000, yang berarti model ini mampu mengklasifikasikan semua lagu dengan benar tanpa kesalahan. Ini menunjukkan bahwa hyperparameter yang optimal sangat penting untuk mencapai performa terbaik.\n",
        "\n",
        "### **Kesimpulan:**\n",
        "* Support Vector Machine (SVM) Tuned adalah model dengan performa terbaik, mencapai akurasi, presisi, recall, dan F1-score sebesar 1.0000. Ini menunjukkan bahwa SVM setelah tuning adalah model yang sangat kuat dan konsisten dalam semua metrik evaluasi.\n",
        "\n",
        "* K-Nearest Neighbors (KNN) Tuned juga menunjukkan performa yang sangat baik setelah tuning, dengan peningkatan yang signifikan dibandingkan dengan hyperparameter default. Namun, performanya masih di bawah SVM.\n",
        "\n",
        "**Rekomendasi**:  \n",
        "Berdasarkan hasil evaluasi ini, Support Vector Machine (SVM) Tuned adalah pilihan terbaik karena performanya yang sempurna. Jika ada pertimbangan komputasi atau kebutuhan interpretasi model, K-Nearest Neighbors (KNN) Tuned juga merupakan pilihan yang sangat baik dengan performa yang hampir setara, tetapi tetap di bawah SVM.\n",
        "\n",
        "**Rekomendasi Tindakan Lanjutan**:\n",
        "- Validasi Silang (Cross-Validation):\n",
        "Lakukan validasi silang pada data pelatihan untuk mengevaluasi stabilitas dan generalisasi model. Ini akan membantu mendeteksi potensi overfitting, terutama pada model SVM yang mencapai performa sempurna.\n",
        "\n",
        "- Pertimbangkan Model Lain (Jika Diperlukan):\n",
        "Meskipun SVM setelah tuning sangat baik, tidak ada salahnya untuk mencoba algoritma klasifikasi lain, terutama jika ada pertimbangan komputasi atau interpretasi model. Algoritma seperti Random Forest atau Gradient Boosting dapat memberikan wawasan tambahan."
      ]
    }
  ],
  "metadata": {
    "colab": {
      "provenance": []
    },
    "kernelspec": {
      "display_name": "Python 3",
      "name": "python3"
    },
    "language_info": {
      "codemirror_mode": {
        "name": "ipython",
        "version": 3
      },
      "file_extension": ".py",
      "mimetype": "text/x-python",
      "name": "python",
      "nbconvert_exporter": "python",
      "pygments_lexer": "ipython3",
      "version": "3.10.11"
    }
  },
  "nbformat": 4,
  "nbformat_minor": 0
}
