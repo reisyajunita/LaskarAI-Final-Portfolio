{
 "cells": [
  {
   "cell_type": "code",
   "execution_count": 1,
   "id": "8295d1ce",
   "metadata": {},
   "outputs": [],
   "source": [
    "# Import pustaka google_play_scraper untuk mengakses ulasan dan informasi aplikasi yang ada di Google Play\n",
    "from google_play_scraper import app, Sort, reviews\n",
    "import pandas as pd\n",
    "import csv"
   ]
  },
  {
   "cell_type": "code",
   "execution_count": 2,
   "id": "1bd378ff",
   "metadata": {},
   "outputs": [
    {
     "name": "stdout",
     "output_type": "stream",
     "text": [
      "Sebanyak 30000 data ulasan berhasil diambil dan disimpan ke dalam file data_sentiment.csv\n"
     ]
    }
   ],
   "source": [
    "scrapreview = reviews(\n",
    "    'com.haegin.playtogether',         # ID aplikasi\n",
    "    lang='id',                         # Bahasa ulasan (Indonesia)\n",
    "    country='id',                      # Negara (Indonesia)\n",
    "    sort=Sort.MOST_RELEVANT,           # Urutan ulasan\n",
    "    count=30000                        # Jumlah maksimum ulasan\n",
    ")\n",
    "\n",
    "# Membuat DataFrame Pandas dari list ulasan\n",
    "df_ulasan = pd.DataFrame(scrapreview[0])\n",
    "\n",
    "# Menyimpan DataFrame ke dalam file CSV\n",
    "df_ulasan.to_csv('data_sentiment.csv', index=False, encoding='utf-8')\n",
    "\n",
    "print(\"Sebanyak {} data ulasan berhasil diambil dan disimpan ke dalam file data_sentiment.csv\".format(len(df_ulasan)))"
   ]
  }
 ],
 "metadata": {
  "kernelspec": {
   "display_name": "env_bpml",
   "language": "python",
   "name": "python3"
  },
  "language_info": {
   "codemirror_mode": {
    "name": "ipython",
    "version": 3
   },
   "file_extension": ".py",
   "mimetype": "text/x-python",
   "name": "python",
   "nbconvert_exporter": "python",
   "pygments_lexer": "ipython3",
   "version": "3.10.11"
  }
 },
 "nbformat": 4,
 "nbformat_minor": 5
}
