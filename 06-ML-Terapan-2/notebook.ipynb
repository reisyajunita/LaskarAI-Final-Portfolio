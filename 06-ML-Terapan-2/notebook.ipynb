{
 "cells": [
  {
   "cell_type": "markdown",
   "id": "65613923",
   "metadata": {},
   "source": [
    "# Movie Recommendation System (IMDb Indonesian Movies)"
   ]
  },
  {
   "cell_type": "markdown",
   "id": "cff229f8",
   "metadata": {},
   "source": [
    "## Project Overview"
   ]
  },
  {
   "cell_type": "markdown",
   "id": "6b510411",
   "metadata": {},
   "source": [
    "Dalam proyek ini, pendekatan utama yang akan digunakan adalah content-based filtering dengan memanfaatkan teknik TF-IDF (Term Frequency-Inverse Document Frequency) dan cosine similarity untuk menganalisis kemiripan antar film berdasarkan fitur-fitur seperti genre, aktor, dan deskripsi film. Pendekatan ini dipilih karena kemampuannya dalam memberikan rekomendasi yang relevan bahkan tanpa data interaksi pengguna yang ekstensif.\n",
    "\n",
    "| Fitur/Variabel   | Deskripsi                                        | Tipe Data   |\n",
    "|------------------|--------------------------------------------------|-------------|\n",
    "| title            | Judul film                                       | object      |\n",
    "| year             | Tahun rilis film                                 | int64       |\n",
    "| description      | Deskripsi singkat film                           | object      |\n",
    "| genre            | Genre film (16 kategori)          | object      |\n",
    "| rating           | Rating usia penonton (12 kategori)               | object      |\n",
    "| users_rating     | Rating pengguna IMDb (skala 1–10)                | float64     |\n",
    "| votes            | Jumlah vote IMDb                                 | object      |\n",
    "| languages        | Bahasa yang digunakan dalam film                 | object      |\n",
    "| directors        | Nama sutradara film                              | object      |\n",
    "| actors           | Daftar aktor yang membintangi film              | object      |\n",
    "| runtime          | Durasi film                                      | object      |\n",
    "\n",
    "**Sumber Data:**\n",
    "[**IMDb Indonesian Movies**](https://www.kaggle.com/datasets/dionisiusdh/imdb-indonesian-movies/data) (Kaggle)"
   ]
  },
  {
   "cell_type": "markdown",
   "id": "1043b9e0",
   "metadata": {},
   "source": [
    "## Import Library"
   ]
  },
  {
   "cell_type": "code",
   "execution_count": 100,
   "id": "a15407cd",
   "metadata": {},
   "outputs": [],
   "source": [
    "import pandas as pd\n",
    "import numpy as np\n",
    "import seaborn as sns\n",
    "import matplotlib.pyplot as plt\n",
    "\n",
    "from sklearn.metrics.pairwise import cosine_similarity\n",
    "from sklearn.feature_extraction.text import TfidfVectorizer\n",
    "from sklearn.preprocessing import MinMaxScaler\n",
    "from scipy.sparse import hstack\n",
    "\n",
    "\n",
    "import warnings\n",
    "warnings.filterwarnings ('ignore')"
   ]
  },
  {
   "cell_type": "code",
   "execution_count": 101,
   "id": "29c35971",
   "metadata": {},
   "outputs": [
    {
     "data": {
      "text/html": [
       "<div>\n",
       "<style scoped>\n",
       "    .dataframe tbody tr th:only-of-type {\n",
       "        vertical-align: middle;\n",
       "    }\n",
       "\n",
       "    .dataframe tbody tr th {\n",
       "        vertical-align: top;\n",
       "    }\n",
       "\n",
       "    .dataframe thead th {\n",
       "        text-align: right;\n",
       "    }\n",
       "</style>\n",
       "<table border=\"1\" class=\"dataframe\">\n",
       "  <thead>\n",
       "    <tr style=\"text-align: right;\">\n",
       "      <th></th>\n",
       "      <th>title</th>\n",
       "      <th>year</th>\n",
       "      <th>description</th>\n",
       "      <th>genre</th>\n",
       "      <th>rating</th>\n",
       "      <th>users_rating</th>\n",
       "      <th>votes</th>\n",
       "      <th>languages</th>\n",
       "      <th>directors</th>\n",
       "      <th>actors</th>\n",
       "      <th>runtime</th>\n",
       "    </tr>\n",
       "  </thead>\n",
       "  <tbody>\n",
       "    <tr>\n",
       "      <th>0</th>\n",
       "      <td>#FriendButMarried 2</td>\n",
       "      <td>2020</td>\n",
       "      <td>Ayudia (Mawar De Jongh) is not satisfied enoug...</td>\n",
       "      <td>Biography</td>\n",
       "      <td>13+</td>\n",
       "      <td>6.5</td>\n",
       "      <td>120</td>\n",
       "      <td>Indonesian</td>\n",
       "      <td>Rako Prijanto</td>\n",
       "      <td>['Adipati Dolken', 'Mawar Eva de Jongh', 'Vonn...</td>\n",
       "      <td>100 min</td>\n",
       "    </tr>\n",
       "    <tr>\n",
       "      <th>1</th>\n",
       "      <td>4 Mantan</td>\n",
       "      <td>2020</td>\n",
       "      <td>Sara, Airin, Rachel, and Amara were accidental...</td>\n",
       "      <td>Thriller</td>\n",
       "      <td>17+</td>\n",
       "      <td>6.4</td>\n",
       "      <td>8</td>\n",
       "      <td>Indonesian</td>\n",
       "      <td>Hanny Saputra</td>\n",
       "      <td>['Ranty Maria', 'Jeff Smith', 'Melanie Berentz...</td>\n",
       "      <td>80 min</td>\n",
       "    </tr>\n",
       "    <tr>\n",
       "      <th>2</th>\n",
       "      <td>Aku Tahu Kapan Kamu Mati</td>\n",
       "      <td>2020</td>\n",
       "      <td>After apparent death, Siena is able to see sig...</td>\n",
       "      <td>Horror</td>\n",
       "      <td>13+</td>\n",
       "      <td>5.4</td>\n",
       "      <td>17</td>\n",
       "      <td>Indonesian</td>\n",
       "      <td>Hadrah Daeng Ratu</td>\n",
       "      <td>['Natasha Wilona', 'Ria Ricis', 'Al Ghazali', ...</td>\n",
       "      <td>92 min</td>\n",
       "    </tr>\n",
       "    <tr>\n",
       "      <th>3</th>\n",
       "      <td>Anak Garuda</td>\n",
       "      <td>2020</td>\n",
       "      <td>Good Morning Indonesia, a school for poor orph...</td>\n",
       "      <td>Adventure</td>\n",
       "      <td>13+</td>\n",
       "      <td>9.1</td>\n",
       "      <td>27</td>\n",
       "      <td>Indonesian</td>\n",
       "      <td>Faozan Rizal</td>\n",
       "      <td>['Tissa Biani Azzahra', 'Violla Georgie', 'Aji...</td>\n",
       "      <td>129 min</td>\n",
       "    </tr>\n",
       "    <tr>\n",
       "      <th>4</th>\n",
       "      <td>Dignitate</td>\n",
       "      <td>2020</td>\n",
       "      <td>Alfi (Al Ghazali) meets Alana (Caitlin Halderm...</td>\n",
       "      <td>Drama</td>\n",
       "      <td>17+</td>\n",
       "      <td>7.6</td>\n",
       "      <td>33</td>\n",
       "      <td>Indonesian</td>\n",
       "      <td>Fajar Nugros</td>\n",
       "      <td>['Al Ghazali', 'Caitlin Halderman', 'Giorgino ...</td>\n",
       "      <td>109 min</td>\n",
       "    </tr>\n",
       "  </tbody>\n",
       "</table>\n",
       "</div>"
      ],
      "text/plain": [
       "                      title  year  \\\n",
       "0       #FriendButMarried 2  2020   \n",
       "1                  4 Mantan  2020   \n",
       "2  Aku Tahu Kapan Kamu Mati  2020   \n",
       "3               Anak Garuda  2020   \n",
       "4                 Dignitate  2020   \n",
       "\n",
       "                                         description      genre rating  \\\n",
       "0  Ayudia (Mawar De Jongh) is not satisfied enoug...  Biography    13+   \n",
       "1  Sara, Airin, Rachel, and Amara were accidental...   Thriller    17+   \n",
       "2  After apparent death, Siena is able to see sig...     Horror    13+   \n",
       "3  Good Morning Indonesia, a school for poor orph...  Adventure    13+   \n",
       "4  Alfi (Al Ghazali) meets Alana (Caitlin Halderm...      Drama    17+   \n",
       "\n",
       "   users_rating votes   languages          directors  \\\n",
       "0           6.5   120  Indonesian      Rako Prijanto   \n",
       "1           6.4     8  Indonesian      Hanny Saputra   \n",
       "2           5.4    17  Indonesian  Hadrah Daeng Ratu   \n",
       "3           9.1    27  Indonesian       Faozan Rizal   \n",
       "4           7.6    33  Indonesian       Fajar Nugros   \n",
       "\n",
       "                                              actors  runtime  \n",
       "0  ['Adipati Dolken', 'Mawar Eva de Jongh', 'Vonn...  100 min  \n",
       "1  ['Ranty Maria', 'Jeff Smith', 'Melanie Berentz...   80 min  \n",
       "2  ['Natasha Wilona', 'Ria Ricis', 'Al Ghazali', ...   92 min  \n",
       "3  ['Tissa Biani Azzahra', 'Violla Georgie', 'Aji...  129 min  \n",
       "4  ['Al Ghazali', 'Caitlin Halderman', 'Giorgino ...  109 min  "
      ]
     },
     "execution_count": 101,
     "metadata": {},
     "output_type": "execute_result"
    }
   ],
   "source": [
    "# Memuat Dataset\n",
    "df = pd.read_csv('indonesian_movies.csv')\n",
    "df.head()"
   ]
  },
  {
   "cell_type": "markdown",
   "id": "8f3e8c9a",
   "metadata": {},
   "source": [
    "## Exploratory Data Analysis"
   ]
  },
  {
   "cell_type": "markdown",
   "id": "1be0014f",
   "metadata": {},
   "source": [
    "### Deskripsi Variabel"
   ]
  },
  {
   "cell_type": "code",
   "execution_count": 102,
   "id": "7148e8f4",
   "metadata": {},
   "outputs": [
    {
     "name": "stdout",
     "output_type": "stream",
     "text": [
      "Data Shape: (1272, 11)\n",
      "\n",
      "Informasi Movies Dataset:\n",
      "<class 'pandas.core.frame.DataFrame'>\n",
      "RangeIndex: 1272 entries, 0 to 1271\n",
      "Data columns (total 11 columns):\n",
      " #   Column        Non-Null Count  Dtype  \n",
      "---  ------        --------------  -----  \n",
      " 0   title         1272 non-null   object \n",
      " 1   year          1272 non-null   int64  \n",
      " 2   description   840 non-null    object \n",
      " 3   genre         1236 non-null   object \n",
      " 4   rating        376 non-null    object \n",
      " 5   users_rating  1272 non-null   float64\n",
      " 6   votes         1272 non-null   object \n",
      " 7   languages     1272 non-null   object \n",
      " 8   directors     1265 non-null   object \n",
      " 9   actors        1272 non-null   object \n",
      " 10  runtime       869 non-null    object \n",
      "dtypes: float64(1), int64(1), object(9)\n",
      "memory usage: 109.4+ KB\n",
      "\n",
      "Statistik Deskriptif (Kolom Numerik) Movies Dataset:\n"
     ]
    },
    {
     "data": {
      "text/html": [
       "<div>\n",
       "<style scoped>\n",
       "    .dataframe tbody tr th:only-of-type {\n",
       "        vertical-align: middle;\n",
       "    }\n",
       "\n",
       "    .dataframe tbody tr th {\n",
       "        vertical-align: top;\n",
       "    }\n",
       "\n",
       "    .dataframe thead th {\n",
       "        text-align: right;\n",
       "    }\n",
       "</style>\n",
       "<table border=\"1\" class=\"dataframe\">\n",
       "  <thead>\n",
       "    <tr style=\"text-align: right;\">\n",
       "      <th></th>\n",
       "      <th>year</th>\n",
       "      <th>users_rating</th>\n",
       "    </tr>\n",
       "  </thead>\n",
       "  <tbody>\n",
       "    <tr>\n",
       "      <th>count</th>\n",
       "      <td>1272.000000</td>\n",
       "      <td>1272.000000</td>\n",
       "    </tr>\n",
       "    <tr>\n",
       "      <th>mean</th>\n",
       "      <td>2007.023585</td>\n",
       "      <td>6.144418</td>\n",
       "    </tr>\n",
       "    <tr>\n",
       "      <th>std</th>\n",
       "      <td>12.968560</td>\n",
       "      <td>1.389315</td>\n",
       "    </tr>\n",
       "    <tr>\n",
       "      <th>min</th>\n",
       "      <td>1926.000000</td>\n",
       "      <td>1.200000</td>\n",
       "    </tr>\n",
       "    <tr>\n",
       "      <th>25%</th>\n",
       "      <td>2006.000000</td>\n",
       "      <td>5.300000</td>\n",
       "    </tr>\n",
       "    <tr>\n",
       "      <th>50%</th>\n",
       "      <td>2011.000000</td>\n",
       "      <td>6.400000</td>\n",
       "    </tr>\n",
       "    <tr>\n",
       "      <th>75%</th>\n",
       "      <td>2016.000000</td>\n",
       "      <td>7.100000</td>\n",
       "    </tr>\n",
       "    <tr>\n",
       "      <th>max</th>\n",
       "      <td>2020.000000</td>\n",
       "      <td>9.400000</td>\n",
       "    </tr>\n",
       "  </tbody>\n",
       "</table>\n",
       "</div>"
      ],
      "text/plain": [
       "              year  users_rating\n",
       "count  1272.000000   1272.000000\n",
       "mean   2007.023585      6.144418\n",
       "std      12.968560      1.389315\n",
       "min    1926.000000      1.200000\n",
       "25%    2006.000000      5.300000\n",
       "50%    2011.000000      6.400000\n",
       "75%    2016.000000      7.100000\n",
       "max    2020.000000      9.400000"
      ]
     },
     "execution_count": 102,
     "metadata": {},
     "output_type": "execute_result"
    }
   ],
   "source": [
    "# Melihat Bentuk Data (Shape)\n",
    "print('Data Shape:', df.shape)\n",
    "\n",
    "# Melihat Informasi Dataset\n",
    "print('\\nInformasi Movies Dataset:')\n",
    "df.info()\n",
    "\n",
    "# Melihat Statistik Deskriptif Dataset\n",
    "print('\\nStatistik Deskriptif (Kolom Numerik) Movies Dataset:')\n",
    "df.describe()"
   ]
  },
  {
   "cell_type": "markdown",
   "id": "ad7797a9",
   "metadata": {},
   "source": [
    "**Insight**\n",
    "\n",
    "- Terdapat 1272 Data dan 11 Kolom.\n",
    "- Terdapat nilang yang hilang atau *missing values*\n",
    "\n",
    "**🎬 Tahun Rilis (`year`)**\n",
    "- Jumlah data untuk tahun rilis adalah **1272 film**.\n",
    "- Rata-rata tahun rilis film adalah sekitar **2007**.\n",
    "- Sebagian besar film dalam dataset ini dirilis antara tahun **2006** (kuartil pertama) dan **2016** (kuartil ketiga).\n",
    "- Rentang tahun rilis cukup lebar, dari tahun **1926 hingga 2020**, menunjukkan adanya film-film klasik hingga film yang relatif baru.\n",
    "- Median tahun rilis adalah **2011**, yang sedikit lebih tinggi dari rata-rata, mengindikasikan kemungkinan adanya lebih banyak film yang dirilis pada paruh kedua periode waktu dalam dataset.\n",
    "\n",
    "**⭐ Rating Pengguna (`users_rating`)**\n",
    "- Jumlah data rating pengguna adalah **1272**, namun sebelumnya disebutkan 6144, kemungkinan terjadi kesalahan atau merujuk pada total skor atau vote dari sumber eksternal (perlu klarifikasi).\n",
    "- Rata-rata rating pengguna adalah sekitar **6.14**.\n",
    "- Sebagian besar rating pengguna berada di antara **5.3** (kuartil pertama) dan **7.1** (kuartil ketiga).\n",
    "- Rentang rating cukup luas, dari **1.2 hingga 9.4**, menunjukkan variasi preferensi pengguna yang signifikan.\n",
    "- Median rating adalah **6.4**, yang sedikit lebih tinggi dari rata-rata, mengindikasikan distribusi rating yang mungkin sedikit condong ke nilai yang lebih tinggi."
   ]
  },
  {
   "cell_type": "code",
   "execution_count": 103,
   "id": "fc26b91e",
   "metadata": {},
   "outputs": [
    {
     "name": "stdout",
     "output_type": "stream",
     "text": [
      "\n",
      "Statistik Deskriptif (Kolom Kategorik) Movies Dataset:\n"
     ]
    },
    {
     "data": {
      "text/html": [
       "<div>\n",
       "<style scoped>\n",
       "    .dataframe tbody tr th:only-of-type {\n",
       "        vertical-align: middle;\n",
       "    }\n",
       "\n",
       "    .dataframe tbody tr th {\n",
       "        vertical-align: top;\n",
       "    }\n",
       "\n",
       "    .dataframe thead th {\n",
       "        text-align: right;\n",
       "    }\n",
       "</style>\n",
       "<table border=\"1\" class=\"dataframe\">\n",
       "  <thead>\n",
       "    <tr style=\"text-align: right;\">\n",
       "      <th></th>\n",
       "      <th>title</th>\n",
       "      <th>description</th>\n",
       "      <th>genre</th>\n",
       "      <th>rating</th>\n",
       "      <th>votes</th>\n",
       "      <th>languages</th>\n",
       "      <th>directors</th>\n",
       "      <th>actors</th>\n",
       "      <th>runtime</th>\n",
       "    </tr>\n",
       "  </thead>\n",
       "  <tbody>\n",
       "    <tr>\n",
       "      <th>count</th>\n",
       "      <td>1272</td>\n",
       "      <td>840</td>\n",
       "      <td>1236</td>\n",
       "      <td>376</td>\n",
       "      <td>1272</td>\n",
       "      <td>1272</td>\n",
       "      <td>1265</td>\n",
       "      <td>1272</td>\n",
       "      <td>869</td>\n",
       "    </tr>\n",
       "    <tr>\n",
       "      <th>unique</th>\n",
       "      <td>1262</td>\n",
       "      <td>840</td>\n",
       "      <td>15</td>\n",
       "      <td>11</td>\n",
       "      <td>312</td>\n",
       "      <td>8</td>\n",
       "      <td>377</td>\n",
       "      <td>1266</td>\n",
       "      <td>85</td>\n",
       "    </tr>\n",
       "    <tr>\n",
       "      <th>top</th>\n",
       "      <td>Kuntilanak 2</td>\n",
       "      <td>It tells the story of an Indonesian revolution...</td>\n",
       "      <td>Drama</td>\n",
       "      <td>13+</td>\n",
       "      <td>6</td>\n",
       "      <td>Indonesian</td>\n",
       "      <td>Nayato Fio Nuala</td>\n",
       "      <td>[nan, nan, nan, nan, nan, nan, nan, nan, nan, ...</td>\n",
       "      <td>90 min</td>\n",
       "    </tr>\n",
       "    <tr>\n",
       "      <th>freq</th>\n",
       "      <td>2</td>\n",
       "      <td>1</td>\n",
       "      <td>456</td>\n",
       "      <td>161</td>\n",
       "      <td>58</td>\n",
       "      <td>1241</td>\n",
       "      <td>61</td>\n",
       "      <td>4</td>\n",
       "      <td>109</td>\n",
       "    </tr>\n",
       "  </tbody>\n",
       "</table>\n",
       "</div>"
      ],
      "text/plain": [
       "               title                                        description  \\\n",
       "count           1272                                                840   \n",
       "unique          1262                                                840   \n",
       "top     Kuntilanak 2  It tells the story of an Indonesian revolution...   \n",
       "freq               2                                                  1   \n",
       "\n",
       "        genre rating votes   languages         directors  \\\n",
       "count    1236    376  1272        1272              1265   \n",
       "unique     15     11   312           8               377   \n",
       "top     Drama    13+     6  Indonesian  Nayato Fio Nuala   \n",
       "freq      456    161    58        1241                61   \n",
       "\n",
       "                                                   actors runtime  \n",
       "count                                                1272     869  \n",
       "unique                                               1266      85  \n",
       "top     [nan, nan, nan, nan, nan, nan, nan, nan, nan, ...  90 min  \n",
       "freq                                                    4     109  "
      ]
     },
     "execution_count": 103,
     "metadata": {},
     "output_type": "execute_result"
    }
   ],
   "source": [
    "# Statistik Deskriptif untuk Kolom Kategorikal\n",
    "print('\\nStatistik Deskriptif (Kolom Kategorik) Movies Dataset:')\n",
    "df.describe(include=['object'])"
   ]
  },
  {
   "cell_type": "markdown",
   "id": "17ccba0a",
   "metadata": {},
   "source": [
    "**Insight**\n",
    "\n",
    "**🎞️ Judul (`title`)**\n",
    "- Terdapat **1272** judul film dalam dataset.\n",
    "- Terdapat **1262** judul yang unik.\n",
    "- Judul **\"Kuntilanak 2\"** muncul paling sering (**frekuensi 2**), yang bisa mengindikasikan adanya sekuel atau kemungkinan duplikasi/kesalahan data.\n",
    "\n",
    "**📝 Deskripsi (`description`)**\n",
    "- Terdapat **840** deskripsi yang tersedia, semuanya bersifat **unik**.\n",
    "- Deskripsi yang muncul pertama secara statistik adalah:  \n",
    "  _\"It tells the story of an Indonesian revolution...\"_\n",
    "\n",
    "**🎭 Genre (`genre`)**\n",
    "- Dataset mencakup **15** genre yang berbeda.\n",
    "- Genre paling dominan adalah **\"Drama\"** dengan **frekuensi 456**.\n",
    "\n",
    "**🔞 Rating Usia (`rating`)**\n",
    "- Terdapat **11** kategori rating usia yang berbeda.\n",
    "- Rating **\"13+\"** adalah yang paling sering muncul, sebanyak **161** kali.\n",
    "\n",
    "**🌐 Bahasa (`languages`)**\n",
    "- Film dalam dataset menggunakan **8** bahasa yang berbeda.\n",
    "- Bahasa **\"Indonesian\"** adalah yang paling umum digunakan, muncul pada **1241** film.\n",
    "\n",
    "**🎬 Sutradara (`directors`)**\n",
    "- Terdapat **377** nama sutradara yang berbeda.\n",
    "- Sutradara dengan jumlah film terbanyak adalah **Nayato Fio Nuala** (**frekuensi 61**).\n",
    "\n",
    "**👥 Aktor (`actors`)**\n",
    "- Terdapat **1272** data aktor, namun ada **nilai-nilai tidak lengkap atau tidak valid**.\n",
    "- Kombinasi aktor **\"[nan, nan, nan, nan, nan]\"** muncul paling sering (**frekuensi 4**), menunjukkan kemungkinan masalah dalam pengisian data.\n",
    "\n",
    "**⏱️ Durasi (`runtime`)**\n",
    "- Terdapat **85** nilai durasi yang unik.\n",
    "- Durasi yang paling umum adalah **\"90 min\"**, muncul sebanyak **109** kali."
   ]
  },
  {
   "cell_type": "code",
   "execution_count": 104,
   "id": "d4a379ad",
   "metadata": {},
   "outputs": [
    {
     "name": "stdout",
     "output_type": "stream",
     "text": [
      "Jumlah Duplikasi: 0\n"
     ]
    }
   ],
   "source": [
    "# Mengecek Duplikasi Data\n",
    "print('Jumlah Duplikasi:', df.duplicated().sum())"
   ]
  },
  {
   "cell_type": "markdown",
   "id": "1cc1bbb3",
   "metadata": {},
   "source": [
    "**Insight**\n",
    "\n",
    "Tidak terdapat Nilai atau Data yang Terduplikasi."
   ]
  },
  {
   "cell_type": "code",
   "execution_count": 105,
   "id": "e43b3704",
   "metadata": {},
   "outputs": [
    {
     "name": "stdout",
     "output_type": "stream",
     "text": [
      "\n",
      "Jumlah nilai hilang per kolom:\n",
      "title             0\n",
      "year              0\n",
      "description     432\n",
      "genre            36\n",
      "rating          896\n",
      "users_rating      0\n",
      "votes             0\n",
      "languages         0\n",
      "directors         7\n",
      "actors            0\n",
      "runtime         403\n",
      "dtype: int64\n",
      "\n",
      "Persentase nilai hilang per kolom:\n"
     ]
    },
    {
     "data": {
      "text/plain": [
       "title            0.000000\n",
       "year             0.000000\n",
       "description     33.962264\n",
       "genre            2.830189\n",
       "rating          70.440252\n",
       "users_rating     0.000000\n",
       "votes            0.000000\n",
       "languages        0.000000\n",
       "directors        0.550314\n",
       "actors           0.000000\n",
       "runtime         31.682390\n",
       "dtype: float64"
      ]
     },
     "execution_count": 105,
     "metadata": {},
     "output_type": "execute_result"
    }
   ],
   "source": [
    "# Mengecek kolom apa saja yang nilainya hilang\n",
    "missing_values = df.isnull().sum()\n",
    "print(\"\\nJumlah nilai hilang per kolom:\")\n",
    "print(missing_values)\n",
    "\n",
    "# Untuk presetanse missing valuenya\n",
    "total_rows = df.shape[0]\n",
    "missing_percentage = (missing_values / total_rows) * 100\n",
    "print(\"\\nPersentase nilai hilang per kolom:\")\n",
    "missing_percentage"
   ]
  },
  {
   "cell_type": "markdown",
   "id": "19a4652f",
   "metadata": {},
   "source": [
    "**Insight**\n",
    "\n",
    "Kolom **description, genre, rating, directors, dan runtime** memiliki *missing values*."
   ]
  },
  {
   "cell_type": "markdown",
   "id": "77ff9c02",
   "metadata": {},
   "source": [
    "### Univariate Analysis"
   ]
  },
  {
   "cell_type": "code",
   "execution_count": null,
   "id": "7b10455f",
   "metadata": {},
   "outputs": [
    {
     "name": "stdout",
     "output_type": "stream",
     "text": [
      "Distribusi Genre:\n",
      "           jumlah sampel  persentase\n",
      "genre                               \n",
      "Drama                456        36.9\n",
      "Comedy               287        23.2\n",
      "Horror               231        18.7\n",
      "Action               132        10.7\n",
      "Adventure             49         4.0\n",
      "Biography             28         2.3\n",
      "Thriller              12         1.0\n",
      "Romance               11         0.9\n",
      "Fantasy               10         0.8\n",
      "Crime                  9         0.7\n",
      "Animation              4         0.3\n",
      "Family                 2         0.2\n",
      "Sci-Fi                 2         0.2\n",
      "War                    2         0.2\n",
      "History                1         0.1\n"
     ]
    },
    {
     "data": {
      "image/png": "[encoded data removed]",
      "text/plain": [
       "<Figure size 1000x600 with 1 Axes>"
      ]
     },
     "metadata": {},
     "output_type": "display_data"
    }
   ],
   "source": [
    "# Distribus Genre\n",
    "feature = 'genre'\n",
    "genre_counts = df[feature].value_counts()\n",
    "genre_percent = 100 * df[feature].value_counts(normalize=True)\n",
    "df_genre = pd.DataFrame({'jumlah sampel': genre_counts, 'persentase': genre_percent.round(1)})\n",
    "\n",
    "print(\"Distribusi Genre:\")\n",
    "print(df_genre)\n",
    "\n",
    "# Visualisasi\n",
    "plt.figure(figsize=(10, 6))\n",
    "sns.countplot(data=df, y=feature, order=df[feature].value_counts().index, palette=\"viridis\")\n",
    "plt.title(f'Distribusi {feature.capitalize()}') \n",
    "plt.ylabel(feature.capitalize())\n",
    "plt.xlabel('Jumlah')\n",
    "plt.tight_layout()\n",
    "plt.show()"
   ]
  },
  {
   "cell_type": "markdown",
   "id": "4d15792d",
   "metadata": {},
   "source": [
    "**Insight**\n",
    "\n",
    "**🎭 Dominasi Genre Drama**\n",
    "- Genre **\"Drama\"** memiliki jumlah sampel terbanyak secara signifikan, yaitu **456 film**, yang mencakup sekitar **36.9%** dari total data genre yang tersedia.\n",
    "- Hal ini menunjukkan bahwa **drama merupakan genre yang sangat dominan** dalam dataset ini.\n",
    "\n",
    "**😂😱 Popularitas Comedy dan Horror**\n",
    "- Genre **\"Comedy\"** dan **\"Horror\"** juga cukup populer:\n",
    "  - **Comedy**: 287 film (**23.2%**)\n",
    "  - **Horror**: 231 film (**18.7%**)\n",
    "- Kedua genre ini menempati posisi setelah Drama dan jauh lebih tinggi dibandingkan genre-genre lainnya.\n",
    "\n",
    "**🔫 Action sebagai Genre Signifikan**\n",
    "- Genre **\"Action\"** berada di posisi keempat dengan **132 film** (**10.7%**).\n",
    "- Ini menunjukkan bahwa genre aksi juga cukup banyak diwakili dalam dataset.\n",
    "\n",
    "**🌍 Genre dengan Representasi Sedang**\n",
    "- Genre dengan jumlah sampel menengah:\n",
    "  - **Adventure**: 49 film (**4.0%**)\n",
    "  - **Biography**: 28 film (**2.3%**)\n",
    "- Meskipun tidak sebanyak empat genre teratas, keduanya memiliki representasi yang lebih tinggi dibandingkan genre-genre minor.\n",
    "\n",
    "**⚠️ Minimnya Representasi Beberapa Genre**\n",
    "- Beberapa genre memiliki representasi yang sangat kecil dalam dataset:\n",
    "  - **Thriller**, **Romance**, **Fantasy**, **Crime**, **Animation**, **Family**, **Sci-Fi**, **War**, dan **History** semuanya berada di bawah atau sedikit di atas **1%** dari total data genre.\n",
    "- Hal ini menunjukkan bahwa genre-genre tersebut **kurang dominan** atau **jarang muncul** dalam koleksi film pada dataset ini."
   ]
  },
  {
   "cell_type": "code",
   "execution_count": 107,
   "id": "e2c6678f",
   "metadata": {},
   "outputs": [
    {
     "name": "stdout",
     "output_type": "stream",
     "text": [
      "Distribusi Tahun Rilis Film:\n",
      "      jumlah sampel  persentase\n",
      "year                           \n",
      "2019            111         8.7\n",
      "2018             97         7.6\n",
      "2009             79         6.2\n",
      "2011             78         6.1\n",
      "2008             77         6.1\n",
      "...             ...         ...\n",
      "1953              1         0.1\n",
      "1951              1         0.1\n",
      "1950              1         0.1\n",
      "1928              1         0.1\n",
      "1926              1         0.1\n",
      "\n",
      "[62 rows x 2 columns]\n"
     ]
    },
    {
     "data": {
      "image/png": "[encoded data removed]",
      "text/plain": [
       "<Figure size 1000x600 with 1 Axes>"
      ]
     },
     "metadata": {},
     "output_type": "display_data"
    }
   ],
   "source": [
    "# Distribusi Tahun Rilis Film\n",
    "feature = 'year'\n",
    "year_counts = df[feature].value_counts() \n",
    "year_percent = 100 * df[feature].value_counts(normalize=True) \n",
    "df_year_sorted = pd.DataFrame({'jumlah sampel': year_counts, 'persentase': year_percent.round(1)}).sort_values(by='jumlah sampel', ascending=False)\n",
    "\n",
    "print(\"Distribusi Tahun Rilis Film:\")\n",
    "print(df_year_sorted)\n",
    "\n",
    "# Visualisasi\n",
    "plt.figure(figsize=(10, 6))\n",
    "sns.histplot(data=df, x=feature, bins=30, kde=True)\n",
    "plt.title(f'Distribusi {feature.capitalize()} Rilis Film')\n",
    "plt.xlabel(feature.capitalize())\n",
    "plt.ylabel('Jumlah Film')\n",
    "plt.tight_layout()\n",
    "plt.show()"
   ]
  },
  {
   "cell_type": "markdown",
   "id": "4dfc5218",
   "metadata": {},
   "source": [
    "**Insight**\n",
    "\n",
    "**📈 Konsentrasi Rilis Film Terbaru**\n",
    "- Sebagian besar film dalam dataset dirilis dalam beberapa tahun terakhir.\n",
    "- Tahun dengan jumlah rilis terbanyak:\n",
    "  - **2019**: 111 film (**8.7%**)\n",
    "  - **2018**: 97 film (**7.6%**)\n",
    "  - **2009**: 79 film (**6.2%**)\n",
    "  - **2011**: 78 film (**6.1%**)\n",
    "  - **2008**: 77 film (**6.1%**)\n",
    "\n",
    "**🔼 Peningkatan Jumlah Rilis Seiring Waktu**\n",
    "- Visualisasi histogram menunjukkan adanya tren **peningkatan jumlah film** yang dirilis dari waktu ke waktu.\n",
    "- **Lonjakan signifikan** terjadi setelah tahun **2000**, menandakan era kebangkitan produksi film yang lebih intensif.\n",
    "\n",
    "**🏔️ Puncak Rilis di Era Modern**\n",
    "- Distribusi memuncak di sekitar tahun **2010-an**, sesuai dengan frekuensi data rilis tertinggi dalam tabel.\n",
    "- Ini menunjukkan bahwa **dekade 2010-an adalah era paling produktif** dalam dataset ini.\n",
    "\n",
    "**📉 Rilis Film Awal yang Jarang**\n",
    "- Film-film yang dirilis pada paruh pertama abad ke-20 sangat sedikit.\n",
    "- Beberapa tahun seperti **1953**, **1951**, **1950**, **1928**, dan **1926** hanya memiliki **1 film** masing-masing (**0.1%** dari total data), menunjukkan keterbatasan arsip atau cakupan data pada era tersebut.\n",
    "\n",
    "**⚖️ Distribusi yang Tidak Merata**\n",
    "- Secara umum, **distribusi tahun rilis sangat tidak merata**.\n",
    "- Konsentrasi rilis **tertinggi** terjadi dalam **dua dekade terakhir**, dengan jumlah film jauh lebih banyak dibandingkan periode sebelumnya.\n",
    "\n",
    "**🧭 Adanya Periode dengan Jumlah Rilis Sedang**\n",
    "- Sekitar tahun **1980-an dan 1990-an** terdapat **peningkatan sedang** dalam jumlah film, lebih tinggi dibandingkan era sebelum 1970-an, namun masih rendah dibandingkan era modern."
   ]
  },
  {
   "cell_type": "code",
   "execution_count": 108,
   "id": "c7e34da6",
   "metadata": {},
   "outputs": [
    {
     "name": "stdout",
     "output_type": "stream",
     "text": [
      "5 Rating Film Teratas:\n",
      "              jumlah sampel  persentase\n",
      "users_rating                           \n",
      "7.2                      54         4.2\n",
      "6.2                      52         4.1\n",
      "6.6                      50         3.9\n",
      "7.0                      48         3.8\n",
      "6.8                      45         3.5\n"
     ]
    },
    {
     "data": {
      "image/png": "[encoded data removed]",
      "text/plain": [
       "<Figure size 1000x600 with 1 Axes>"
      ]
     },
     "metadata": {},
     "output_type": "display_data"
    }
   ],
   "source": [
    "# Distribusi User Rating (5 Teratas)\n",
    "feature = 'users_rating'\n",
    "rating_counts = df[feature].value_counts()\n",
    "top_5_ratings = rating_counts.nlargest(5)\n",
    "\n",
    "df_top_5_ratings = pd.DataFrame({'jumlah sampel': top_5_ratings, 'persentase': (100 * top_5_ratings / len(df)).round(1)})\n",
    "\n",
    "print(\"5 Rating Film Teratas:\")\n",
    "print(df_top_5_ratings)\n",
    "\n",
    "# Visualisasi 5 Rating Teratas\n",
    "plt.figure(figsize=(10, 6))\n",
    "sns.countplot(data=df, y=feature, order=top_5_ratings.index, palette=\"viridis\")\n",
    "plt.title(f'5 Rating Teratas Berdasarkan Jumlah Pengguna')\n",
    "plt.ylabel(feature.capitalize())\n",
    "plt.xlabel('Jumlah Pengguna')\n",
    "plt.tight_layout()\n",
    "plt.show()"
   ]
  },
  {
   "cell_type": "markdown",
   "id": "f93ca407",
   "metadata": {},
   "source": [
    "**Insight**\n",
    "\n",
    "**🥇 Rating 7.2 Paling Banyak Dipilih**\n",
    "- **Rating 7.2** merupakan rating yang **paling banyak diberikan oleh pengguna** dalam dataset ini.\n",
    "- Terdapat **54 film** (sekitar **4.2%** dari total) yang memiliki rating ini.\n",
    "\n",
    "**🥈 Rating 6.2 dan 6.6 Cukup Populer**\n",
    "- **Rating 6.2** diberikan pada **52 film** (**4.1%**).\n",
    "- **Rating 6.6** diberikan pada **50 film** (**3.9%**).\n",
    "- Kedua rating ini sangat dekat frekuensinya dengan rating 7.2, menunjukkan **popularitas yang tinggi**.\n",
    "\n",
    "**🥉 Rating 7.0 dan 6.8 Mengikuti**\n",
    "- **Rating 7.0** muncul pada **48 film** (**3.8%**).\n",
    "- **Rating 6.8** muncul pada **45 film** (**3.5%**).\n",
    "- Kedua rating ini melengkapi **lima besar** rating terbanyak dalam dataset."
   ]
  },
  {
   "cell_type": "markdown",
   "id": "e6903e80",
   "metadata": {},
   "source": [
    "## Data Preparation"
   ]
  },
  {
   "cell_type": "markdown",
   "id": "b66c4f5d",
   "metadata": {},
   "source": [
    "- Menerapkan dan menyebutkan teknik data preparation yang dilakukan.\n",
    "- Teknik yang digunakan pada notebook dan laporan harus berurutan.\n",
    "- Menjelaskan proses data preparation yang dilakukan.\n",
    "- Menjelaskan alasan mengapa diperlukan tahapan data preparation tersebut."
   ]
  },
  {
   "cell_type": "markdown",
   "id": "a8fca234",
   "metadata": {},
   "source": [
    "### Drop Kolom"
   ]
  },
  {
   "cell_type": "markdown",
   "id": "725c2ee8",
   "metadata": {},
   "source": [
    "Tahap ini bertujuan untuk mengurangi noise dan kompleksitas data dengan menghapus kolom yang tidak memberikan kontribusi signifikan terhadap sistem rekomendasi."
   ]
  },
  {
   "cell_type": "code",
   "execution_count": 109,
   "id": "19c920d9",
   "metadata": {},
   "outputs": [],
   "source": [
    "# Drop Kolom yang Tidak Relevan\n",
    "df.drop(columns=['rating', 'votes', 'languages', 'runtime'], inplace=True)"
   ]
  },
  {
   "cell_type": "markdown",
   "id": "b5e43b1b",
   "metadata": {},
   "source": [
    "### Handling Missing Values"
   ]
  },
  {
   "cell_type": "markdown",
   "id": "b5401ab4",
   "metadata": {},
   "source": [
    "Tahap ini bertujuan untuk mengisi nilai yang hilang (NaN) pada kolom-kolom yang akan digunakan dalam pemodelan, untuk meningkatkan kualitas dan keandalan data."
   ]
  },
  {
   "cell_type": "code",
   "execution_count": 110,
   "id": "64ee05f8",
   "metadata": {},
   "outputs": [],
   "source": [
    "# Menangani Missing Value\n",
    "df['title'].fillna('', inplace=True)\n",
    "df['description'].fillna('', inplace=True)\n",
    "df['actors'].fillna('', inplace=True)\n",
    "df['genre'].fillna('Tidak Diketahui', inplace=True)\n",
    "df['users_rating'].fillna(df['users_rating'].median(), inplace=True)"
   ]
  },
  {
   "cell_type": "markdown",
   "id": "7a0ab144",
   "metadata": {},
   "source": [
    "### Preprocessing"
   ]
  },
  {
   "cell_type": "markdown",
   "id": "09126b78",
   "metadata": {},
   "source": [
    "Tahap ini bertujuan untuk menyiapkan representasi fitur yang relevan untuk perhitungan kesamaan antar film dan menghitung kesamaan antar film berdasarkan representasi fitur gabungan."
   ]
  },
  {
   "cell_type": "code",
   "execution_count": 111,
   "id": "91f0f80c",
   "metadata": {},
   "outputs": [],
   "source": [
    "def prepare_features(df):\n",
    "    # Gabungkan kolom teks\n",
    "    text_data = df['genre'] + ' ' + df['actors'] + ' ' + df['description']\n",
    "\n",
    "    # 1. TF-IDF Vectorization\n",
    "    tfidf_vectorizer = TfidfVectorizer(stop_words='english')  \n",
    "    tfidf_matrix = tfidf_vectorizer.fit_transform(text_data)\n",
    "\n",
    "    # 2. Scaling numerik: year dan users_rating\n",
    "    scaler = MinMaxScaler()\n",
    "    year_scaled = scaler.fit_transform(df[['year']])\n",
    "    rating_scaled = scaler.fit_transform(df[['users_rating']])\n",
    "\n",
    "    # 3. Gabungkan semua ke dalam satu matrix\n",
    "    combined_matrix = hstack((tfidf_matrix, year_scaled, rating_scaled))\n",
    "\n",
    "    return combined_matrix, tfidf_vectorizer\n",
    "combined_matrix, tfidf_vectorizer = prepare_features(df)\n",
    "\n",
    "# Menghitung Similarity\n",
    "sim_matrix = cosine_similarity(combined_matrix, combined_matrix)"
   ]
  },
  {
   "cell_type": "markdown",
   "id": "b063fc50",
   "metadata": {},
   "source": [
    "## Modeling"
   ]
  },
  {
   "cell_type": "markdown",
   "id": "8469b057",
   "metadata": {},
   "source": [
    "Tahapan ini membahas model sistem rekomendasi yang dibuat untuk memberikan rekomendasi film kepada pengguna. Sistem ini menggunakan pendekatan Content-Based Filtering untuk merekomendasikan film yang mirip dengan film yang telah disukai atau ditonton sebelumnya."
   ]
  },
  {
   "cell_type": "markdown",
   "id": "b8cb49d9",
   "metadata": {},
   "source": [
    "### Content-Based-Filtering"
   ]
  },
  {
   "cell_type": "code",
   "execution_count": 112,
   "id": "34fa5e3e",
   "metadata": {},
   "outputs": [],
   "source": [
    "# Fungsi Rekomendasi Film\n",
    "def get_movie_recommendations(movie_title, df, sim_matrix, n_recommendations=5):\n",
    "    try:\n",
    "        idx = df[df['title'].str.lower() == movie_title.lower()].index[0]\n",
    "    except IndexError:\n",
    "        print(f\"Film dengan judul '{movie_title}' tidak ditemukan dalam dataset.\")\n",
    "        return pd.DataFrame()\n",
    "    else:\n",
    "        sim_scores = list(enumerate(sim_matrix[idx]))\n",
    "        sim_scores = sorted(sim_scores, key=lambda x: x[1], reverse=True)\n",
    "        movie_indices = [i[0] for i in sim_scores[1:n_recommendations+1]]\n",
    "        scores = [i[1] for i in sim_scores[1:n_recommendations+1]]\n",
    "        \n",
    "        recommendations = df.iloc[movie_indices][['title', 'description', 'genre', 'actors', 'year', 'users_rating']].copy()\n",
    "        recommendations['similarity_score'] = scores\n",
    "        return recommendations"
   ]
  },
  {
   "cell_type": "markdown",
   "id": "f3724ef9",
   "metadata": {},
   "source": [
    "## Evaluation"
   ]
  },
  {
   "cell_type": "markdown",
   "id": "35eff075",
   "metadata": {},
   "source": [
    "Bagian ini menjelaskan metrik evaluasi yang digunakan untuk mengukur kinerja sistem rekomendasi dan hasil evaluasinya."
   ]
  },
  {
   "cell_type": "code",
   "execution_count": 113,
   "id": "f248c292",
   "metadata": {},
   "outputs": [],
   "source": [
    "# Fungsi Evaluasi Metrik\n",
    "def evaluate_genre_precision_at_k(recommended_movies, relevant_genres, k=3):\n",
    "    if recommended_movies.empty:\n",
    "        return 0.0\n",
    "\n",
    "    top_k_recommendations = recommended_movies.head(k)\n",
    "    relevant_and_recommended_count = 0\n",
    "\n",
    "    for genre_str in top_k_recommendations['genre']:\n",
    "        genre_list = [g.strip() for g in genre_str.split(',')]\n",
    "        if any(g in relevant_genres for g in genre_list):\n",
    "            relevant_and_recommended_count += 1\n",
    "\n",
    "    precision_at_k = relevant_and_recommended_count / k if k > 0 else 0.0\n",
    "    return precision_at_k"
   ]
  },
  {
   "cell_type": "code",
   "execution_count": 114,
   "id": "6b4333bc",
   "metadata": {},
   "outputs": [
    {
     "name": "stdout",
     "output_type": "stream",
     "text": [
      "Rekomendasi Film: Dilan 1991\n"
     ]
    },
    {
     "data": {
      "text/html": [
       "<div>\n",
       "<style scoped>\n",
       "    .dataframe tbody tr th:only-of-type {\n",
       "        vertical-align: middle;\n",
       "    }\n",
       "\n",
       "    .dataframe tbody tr th {\n",
       "        vertical-align: top;\n",
       "    }\n",
       "\n",
       "    .dataframe thead th {\n",
       "        text-align: right;\n",
       "    }\n",
       "</style>\n",
       "<table border=\"1\" class=\"dataframe\">\n",
       "  <thead>\n",
       "    <tr style=\"text-align: right;\">\n",
       "      <th></th>\n",
       "      <th>title</th>\n",
       "      <th>description</th>\n",
       "      <th>genre</th>\n",
       "      <th>actors</th>\n",
       "      <th>year</th>\n",
       "      <th>users_rating</th>\n",
       "      <th>similarity_score</th>\n",
       "    </tr>\n",
       "  </thead>\n",
       "  <tbody>\n",
       "    <tr>\n",
       "      <th>11</th>\n",
       "      <td>Milea</td>\n",
       "      <td>Milea made the decision to part with Dilan as ...</td>\n",
       "      <td>Drama</td>\n",
       "      <td>['Iqbaal Dhiafakhri Ramadhan', 'Vanesha Presci...</td>\n",
       "      <td>2020</td>\n",
       "      <td>6.1</td>\n",
       "      <td>0.761454</td>\n",
       "    </tr>\n",
       "    <tr>\n",
       "      <th>160</th>\n",
       "      <td>Dilan 1990</td>\n",
       "      <td>Milea (Vanesha Prescilla) met with Dilan (Iqba...</td>\n",
       "      <td>Drama</td>\n",
       "      <td>['Iqbaal Dhiafakhri Ramadhan', 'Vanesha Presci...</td>\n",
       "      <td>2018</td>\n",
       "      <td>7.3</td>\n",
       "      <td>0.740067</td>\n",
       "    </tr>\n",
       "    <tr>\n",
       "      <th>131</th>\n",
       "      <td>#FriendButMarried</td>\n",
       "      <td>Ayudia (Vanesha Prescilla) and Ditto (Adipati ...</td>\n",
       "      <td>Biography</td>\n",
       "      <td>['Adipati Dolken', 'Vanesha Prescilla', 'Refal...</td>\n",
       "      <td>2018</td>\n",
       "      <td>6.9</td>\n",
       "      <td>0.641758</td>\n",
       "    </tr>\n",
       "    <tr>\n",
       "      <th>9</th>\n",
       "      <td>Mariposa</td>\n",
       "      <td>Iqbal (Angga Yunanda) is like a Mariposa butte...</td>\n",
       "      <td>Drama</td>\n",
       "      <td>['Angga Yunanda', 'Adhisty Zara', 'Dannia Sals...</td>\n",
       "      <td>2020</td>\n",
       "      <td>8.5</td>\n",
       "      <td>0.633936</td>\n",
       "    </tr>\n",
       "    <tr>\n",
       "      <th>174</th>\n",
       "      <td>Keluarga Cemara</td>\n",
       "      <td>After the bankruptcy, Abah loses his house and...</td>\n",
       "      <td>Drama</td>\n",
       "      <td>['Nirina Zubir', 'Ringgo Agus Rahman', 'Adhist...</td>\n",
       "      <td>2018</td>\n",
       "      <td>7.9</td>\n",
       "      <td>0.631335</td>\n",
       "    </tr>\n",
       "  </tbody>\n",
       "</table>\n",
       "</div>"
      ],
      "text/plain": [
       "                 title                                        description  \\\n",
       "11               Milea  Milea made the decision to part with Dilan as ...   \n",
       "160         Dilan 1990  Milea (Vanesha Prescilla) met with Dilan (Iqba...   \n",
       "131  #FriendButMarried  Ayudia (Vanesha Prescilla) and Ditto (Adipati ...   \n",
       "9             Mariposa  Iqbal (Angga Yunanda) is like a Mariposa butte...   \n",
       "174    Keluarga Cemara  After the bankruptcy, Abah loses his house and...   \n",
       "\n",
       "         genre                                             actors  year  \\\n",
       "11       Drama  ['Iqbaal Dhiafakhri Ramadhan', 'Vanesha Presci...  2020   \n",
       "160      Drama  ['Iqbaal Dhiafakhri Ramadhan', 'Vanesha Presci...  2018   \n",
       "131  Biography  ['Adipati Dolken', 'Vanesha Prescilla', 'Refal...  2018   \n",
       "9        Drama  ['Angga Yunanda', 'Adhisty Zara', 'Dannia Sals...  2020   \n",
       "174      Drama  ['Nirina Zubir', 'Ringgo Agus Rahman', 'Adhist...  2018   \n",
       "\n",
       "     users_rating  similarity_score  \n",
       "11            6.1          0.761454  \n",
       "160           7.3          0.740067  \n",
       "131           6.9          0.641758  \n",
       "9             8.5          0.633936  \n",
       "174           7.9          0.631335  "
      ]
     },
     "metadata": {},
     "output_type": "display_data"
    },
    {
     "name": "stdout",
     "output_type": "stream",
     "text": [
      "\n",
      "Precision@3 (Genre): 0.67\n"
     ]
    }
   ],
   "source": [
    "# Contoh Penerapan Sistem Rekomendasi Film\n",
    "movie_title = 'Dilan 1991'\n",
    "recommendations = get_movie_recommendations(movie_title, df, sim_matrix)\n",
    "print(\"Rekomendasi Film:\", movie_title)\n",
    "display(recommendations)\n",
    "\n",
    "relevant_genres = ['Drama', 'Romance']\n",
    "precision_at_k = evaluate_genre_precision_at_k(recommendations, relevant_genres, k=3)\n",
    "print(f'\\nPrecision@3 (Genre): {precision_at_k:.2f}')"
   ]
  },
  {
   "cell_type": "markdown",
   "id": "90233fd3",
   "metadata": {},
   "source": [
    "### Insight: Hasil Rekomendasi dan Evaluasi Genre\n",
    "\n",
    "Output ini menyajikan hasil konkret dari sistem rekomendasi untuk film **'Dilan 1991'** dan evaluasi kinerjanya menggunakan metrik Precision@k berdasarkan genre.\n",
    "\n",
    "**Temuan dari Rekomendasi:**\n",
    "\n",
    "1.  **Relevansi Tinggi:** Rekomendasi teratas adalah **'Milea'** dan **'Dilan 1990'**, yang merupakan sekuel dan prekuel langsung dari film input. Skor kemiripan yang tinggi (0.76 dan 0.74) menunjukkan model berhasil mengidentifikasi hubungan konten yang sangat kuat (kemungkinan besar dari deskripsi, aktor, judul, dan genre yang sama).\n",
    "2.  **Kemiripan Lainnya:** Film seperti '#FriendButMarried', 'Mariposa', dan 'Keluarga Cemara' muncul berikutnya. Kemiripan mereka (skor ~0.63-0.64) mungkin berasal dari kombinasi genre (Drama), aktor yang sama (Vanesha Prescilla, Adhisty Zara), tema dalam deskripsi, atau kedekatan dalam rating pengguna.\n",
    "3.  **Skor Menurun:** Skor kemiripan menurun secara wajar seiring peringkat rekomendasi, yang diharapkan.\n",
    "\n",
    "**Temuan dari Evaluasi (Precision@3 Genre):**\n",
    "\n",
    "1.  **Konteks:** Evaluasi ini mengukur seberapa banyak dari **3 rekomendasi teratas** yang termasuk dalam genre yang dianggap relevan (dalam kasus ini, **'Drama'** atau **'Romance'**).\n",
    "2.  **Perhitungan:**\n",
    "    * Top 3 Rekomendasi: 'Milea' (Genre: Drama), 'Dilan 1990' (Genre: Drama), '#FriendButMarried' (Genre: Biography).\n",
    "    * Genre yang Relevan di Top 3: 'Drama', 'Drama' (2 film).\n",
    "    * Precision@3 = (Jumlah Rekomendasi Relevan di Top 3) / 3 = 2 / 3 ≈ 0.67.\n",
    "3.  **Makna:** Skor **Precision@3 ≈ 0.67** menunjukkan bahwa **dua pertiga** dari rekomendasi teratas untuk 'Dilan 1991' sesuai dengan kriteria genre yang diinginkan ('Drama' atau 'Romance').\n",
    "\n",
    "**Insight Keseluruhan:**\n",
    "\n",
    "Kombinasi output rekomendasi dan evaluasi ini memberikan gambaran:\n",
    "\n",
    "* **Efektivitas Model:** Model berbasis konten ini efektif dalam menemukan film yang sangat mirip (seperti dalam satu seri).\n",
    "* **Relevansi Genre:** Model menunjukkan kemampuan yang cukup baik (presisi 67% di 3 teratas) dalam merekomendasikan film dengan genre yang dianggap relevan ('Drama'/'Romance') untuk contoh spesifik ini. Ini mengindikasikan bahwa fitur yang digunakan (teks + rating) secara tidak langsung juga menangkap preferensi genre."
   ]
  }
 ],
 "metadata": {
  "kernelspec": {
   "display_name": "Python 3",
   "language": "python",
   "name": "python3"
  },
  "language_info": {
   "codemirror_mode": {
    "name": "ipython",
    "version": 3
   },
   "file_extension": ".py",
   "mimetype": "text/x-python",
   "name": "python",
   "nbconvert_exporter": "python",
   "pygments_lexer": "ipython3",
   "version": "3.10.11"
  }
 },
 "nbformat": 4,
 "nbformat_minor": 5
}
